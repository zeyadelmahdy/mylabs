{
 "cells": [
  {
   "cell_type": "code",
   "execution_count": 1,
   "id": "f12dbca8",
   "metadata": {},
   "outputs": [],
   "source": [
    "import pandas as pd\n",
    "import numpy as np\n",
    "\n"
   ]
  },
  {
   "cell_type": "code",
   "execution_count": 3,
   "id": "8a6673c6",
   "metadata": {},
   "outputs": [
    {
     "data": {
      "text/html": [
       "<div>\n",
       "<style scoped>\n",
       "    .dataframe tbody tr th:only-of-type {\n",
       "        vertical-align: middle;\n",
       "    }\n",
       "\n",
       "    .dataframe tbody tr th {\n",
       "        vertical-align: top;\n",
       "    }\n",
       "\n",
       "    .dataframe thead th {\n",
       "        text-align: right;\n",
       "    }\n",
       "</style>\n",
       "<table border=\"1\" class=\"dataframe\">\n",
       "  <thead>\n",
       "    <tr style=\"text-align: right;\">\n",
       "      <th></th>\n",
       "      <th>Unnamed: 0</th>\n",
       "      <th>Customer</th>\n",
       "      <th>State</th>\n",
       "      <th>Customer Lifetime Value</th>\n",
       "      <th>Response</th>\n",
       "      <th>Coverage</th>\n",
       "      <th>Education</th>\n",
       "      <th>Effective To Date</th>\n",
       "      <th>EmploymentStatus</th>\n",
       "      <th>Gender</th>\n",
       "      <th>...</th>\n",
       "      <th>Number of Open Complaints</th>\n",
       "      <th>Number of Policies</th>\n",
       "      <th>Policy Type</th>\n",
       "      <th>Policy</th>\n",
       "      <th>Renew Offer Type</th>\n",
       "      <th>Sales Channel</th>\n",
       "      <th>Total Claim Amount</th>\n",
       "      <th>Vehicle Class</th>\n",
       "      <th>Vehicle Size</th>\n",
       "      <th>Vehicle Type</th>\n",
       "    </tr>\n",
       "  </thead>\n",
       "  <tbody>\n",
       "    <tr>\n",
       "      <th>0</th>\n",
       "      <td>0</td>\n",
       "      <td>DK49336</td>\n",
       "      <td>Arizona</td>\n",
       "      <td>4809.216960</td>\n",
       "      <td>No</td>\n",
       "      <td>Basic</td>\n",
       "      <td>College</td>\n",
       "      <td>2011-02-18</td>\n",
       "      <td>Employed</td>\n",
       "      <td>M</td>\n",
       "      <td>...</td>\n",
       "      <td>0.0</td>\n",
       "      <td>9</td>\n",
       "      <td>Corporate Auto</td>\n",
       "      <td>Corporate L3</td>\n",
       "      <td>Offer3</td>\n",
       "      <td>Agent</td>\n",
       "      <td>292.800000</td>\n",
       "      <td>Four-Door Car</td>\n",
       "      <td>Medsize</td>\n",
       "      <td>NaN</td>\n",
       "    </tr>\n",
       "    <tr>\n",
       "      <th>1</th>\n",
       "      <td>1</td>\n",
       "      <td>KX64629</td>\n",
       "      <td>California</td>\n",
       "      <td>2228.525238</td>\n",
       "      <td>No</td>\n",
       "      <td>Basic</td>\n",
       "      <td>College</td>\n",
       "      <td>2011-01-18</td>\n",
       "      <td>Unemployed</td>\n",
       "      <td>F</td>\n",
       "      <td>...</td>\n",
       "      <td>0.0</td>\n",
       "      <td>1</td>\n",
       "      <td>Personal Auto</td>\n",
       "      <td>Personal L3</td>\n",
       "      <td>Offer4</td>\n",
       "      <td>Call Center</td>\n",
       "      <td>744.924331</td>\n",
       "      <td>Four-Door Car</td>\n",
       "      <td>Medsize</td>\n",
       "      <td>NaN</td>\n",
       "    </tr>\n",
       "    <tr>\n",
       "      <th>2</th>\n",
       "      <td>2</td>\n",
       "      <td>LZ68649</td>\n",
       "      <td>Washington</td>\n",
       "      <td>14947.917300</td>\n",
       "      <td>No</td>\n",
       "      <td>Basic</td>\n",
       "      <td>Bachelor</td>\n",
       "      <td>2011-02-10</td>\n",
       "      <td>Employed</td>\n",
       "      <td>M</td>\n",
       "      <td>...</td>\n",
       "      <td>0.0</td>\n",
       "      <td>2</td>\n",
       "      <td>Personal Auto</td>\n",
       "      <td>Personal L3</td>\n",
       "      <td>Offer3</td>\n",
       "      <td>Call Center</td>\n",
       "      <td>480.000000</td>\n",
       "      <td>SUV</td>\n",
       "      <td>Medsize</td>\n",
       "      <td>A</td>\n",
       "    </tr>\n",
       "    <tr>\n",
       "      <th>3</th>\n",
       "      <td>3</td>\n",
       "      <td>XL78013</td>\n",
       "      <td>Oregon</td>\n",
       "      <td>22332.439460</td>\n",
       "      <td>Yes</td>\n",
       "      <td>Extended</td>\n",
       "      <td>College</td>\n",
       "      <td>2011-01-11</td>\n",
       "      <td>Employed</td>\n",
       "      <td>M</td>\n",
       "      <td>...</td>\n",
       "      <td>0.0</td>\n",
       "      <td>2</td>\n",
       "      <td>Corporate Auto</td>\n",
       "      <td>Corporate L3</td>\n",
       "      <td>Offer2</td>\n",
       "      <td>Branch</td>\n",
       "      <td>484.013411</td>\n",
       "      <td>Four-Door Car</td>\n",
       "      <td>Medsize</td>\n",
       "      <td>A</td>\n",
       "    </tr>\n",
       "    <tr>\n",
       "      <th>4</th>\n",
       "      <td>4</td>\n",
       "      <td>QA50777</td>\n",
       "      <td>Oregon</td>\n",
       "      <td>9025.067525</td>\n",
       "      <td>No</td>\n",
       "      <td>Premium</td>\n",
       "      <td>Bachelor</td>\n",
       "      <td>2011-01-17</td>\n",
       "      <td>Medical Leave</td>\n",
       "      <td>F</td>\n",
       "      <td>...</td>\n",
       "      <td>NaN</td>\n",
       "      <td>7</td>\n",
       "      <td>Personal Auto</td>\n",
       "      <td>Personal L2</td>\n",
       "      <td>Offer1</td>\n",
       "      <td>Branch</td>\n",
       "      <td>707.925645</td>\n",
       "      <td>Four-Door Car</td>\n",
       "      <td>Medsize</td>\n",
       "      <td>NaN</td>\n",
       "    </tr>\n",
       "  </tbody>\n",
       "</table>\n",
       "<p>5 rows × 26 columns</p>\n",
       "</div>"
      ],
      "text/plain": [
       "   Unnamed: 0 Customer       State  Customer Lifetime Value Response  \\\n",
       "0           0  DK49336     Arizona              4809.216960       No   \n",
       "1           1  KX64629  California              2228.525238       No   \n",
       "2           2  LZ68649  Washington             14947.917300       No   \n",
       "3           3  XL78013      Oregon             22332.439460      Yes   \n",
       "4           4  QA50777      Oregon              9025.067525       No   \n",
       "\n",
       "   Coverage Education Effective To Date EmploymentStatus Gender  ...  \\\n",
       "0     Basic   College        2011-02-18         Employed      M  ...   \n",
       "1     Basic   College        2011-01-18       Unemployed      F  ...   \n",
       "2     Basic  Bachelor        2011-02-10         Employed      M  ...   \n",
       "3  Extended   College        2011-01-11         Employed      M  ...   \n",
       "4   Premium  Bachelor        2011-01-17    Medical Leave      F  ...   \n",
       "\n",
       "   Number of Open Complaints Number of Policies     Policy Type        Policy  \\\n",
       "0                        0.0                  9  Corporate Auto  Corporate L3   \n",
       "1                        0.0                  1   Personal Auto   Personal L3   \n",
       "2                        0.0                  2   Personal Auto   Personal L3   \n",
       "3                        0.0                  2  Corporate Auto  Corporate L3   \n",
       "4                        NaN                  7   Personal Auto   Personal L2   \n",
       "\n",
       "   Renew Offer Type  Sales Channel  Total Claim Amount  Vehicle Class  \\\n",
       "0            Offer3          Agent          292.800000  Four-Door Car   \n",
       "1            Offer4    Call Center          744.924331  Four-Door Car   \n",
       "2            Offer3    Call Center          480.000000            SUV   \n",
       "3            Offer2         Branch          484.013411  Four-Door Car   \n",
       "4            Offer1         Branch          707.925645  Four-Door Car   \n",
       "\n",
       "  Vehicle Size Vehicle Type  \n",
       "0      Medsize          NaN  \n",
       "1      Medsize          NaN  \n",
       "2      Medsize            A  \n",
       "3      Medsize            A  \n",
       "4      Medsize          NaN  \n",
       "\n",
       "[5 rows x 26 columns]"
      ]
     },
     "execution_count": 3,
     "metadata": {},
     "output_type": "execute_result"
    }
   ],
   "source": [
    "data=pd.read_excel('marketing_customer_analysis.xlsx') \n",
    "data.head() "
   ]
  },
  {
   "cell_type": "code",
   "execution_count": 4,
   "id": "b8c24050",
   "metadata": {},
   "outputs": [
    {
     "name": "stdout",
     "output_type": "stream",
     "text": [
      "<class 'pandas.core.frame.DataFrame'>\n",
      "RangeIndex: 10910 entries, 0 to 10909\n",
      "Data columns (total 26 columns):\n",
      " #   Column                         Non-Null Count  Dtype         \n",
      "---  ------                         --------------  -----         \n",
      " 0   Unnamed: 0                     10910 non-null  int64         \n",
      " 1   Customer                       10910 non-null  object        \n",
      " 2   State                          10279 non-null  object        \n",
      " 3   Customer Lifetime Value        10910 non-null  float64       \n",
      " 4   Response                       10279 non-null  object        \n",
      " 5   Coverage                       10910 non-null  object        \n",
      " 6   Education                      10910 non-null  object        \n",
      " 7   Effective To Date              10910 non-null  datetime64[ns]\n",
      " 8   EmploymentStatus               10910 non-null  object        \n",
      " 9   Gender                         10910 non-null  object        \n",
      " 10  Income                         10910 non-null  int64         \n",
      " 11  Location Code                  10910 non-null  object        \n",
      " 12  Marital Status                 10910 non-null  object        \n",
      " 13  Monthly Premium Auto           10910 non-null  int64         \n",
      " 14  Months Since Last Claim        10277 non-null  float64       \n",
      " 15  Months Since Policy Inception  10910 non-null  int64         \n",
      " 16  Number of Open Complaints      10277 non-null  float64       \n",
      " 17  Number of Policies             10910 non-null  int64         \n",
      " 18  Policy Type                    10910 non-null  object        \n",
      " 19  Policy                         10910 non-null  object        \n",
      " 20  Renew Offer Type               10910 non-null  object        \n",
      " 21  Sales Channel                  10910 non-null  object        \n",
      " 22  Total Claim Amount             10910 non-null  float64       \n",
      " 23  Vehicle Class                  10288 non-null  object        \n",
      " 24  Vehicle Size                   10288 non-null  object        \n",
      " 25  Vehicle Type                   5428 non-null   object        \n",
      "dtypes: datetime64[ns](1), float64(4), int64(5), object(16)\n",
      "memory usage: 2.2+ MB\n"
     ]
    }
   ],
   "source": [
    "data.info()"
   ]
  },
  {
   "cell_type": "code",
   "execution_count": 5,
   "id": "58f6edd8",
   "metadata": {},
   "outputs": [],
   "source": [
    "data=data.dropna()\n"
   ]
  },
  {
   "cell_type": "code",
   "execution_count": 8,
   "id": "dc473d4f",
   "metadata": {},
   "outputs": [],
   "source": [
    "data.reset_index(drop=True, inplace=True)\n"
   ]
  },
  {
   "cell_type": "code",
   "execution_count": 10,
   "id": "943bafc1",
   "metadata": {},
   "outputs": [],
   "source": [
    "import matplotlib.pyplot as plt \n",
    "import seaborn as sns"
   ]
  },
  {
   "cell_type": "code",
   "execution_count": 11,
   "id": "8d9938f2",
   "metadata": {},
   "outputs": [],
   "source": [
    "dfcat=data.select_dtypes(include=object)"
   ]
  },
  {
   "cell_type": "code",
   "execution_count": 13,
   "id": "1011448c",
   "metadata": {},
   "outputs": [],
   "source": [
    "import numpy as np \n",
    "# isolate numeric features \n",
    "dfnum=data.select_dtypes(include=np.number)"
   ]
  },
  {
   "cell_type": "code",
   "execution_count": 14,
   "id": "06489943",
   "metadata": {},
   "outputs": [
    {
     "data": {
      "text/html": [
       "<div>\n",
       "<style scoped>\n",
       "    .dataframe tbody tr th:only-of-type {\n",
       "        vertical-align: middle;\n",
       "    }\n",
       "\n",
       "    .dataframe tbody tr th {\n",
       "        vertical-align: top;\n",
       "    }\n",
       "\n",
       "    .dataframe thead th {\n",
       "        text-align: right;\n",
       "    }\n",
       "</style>\n",
       "<table border=\"1\" class=\"dataframe\">\n",
       "  <thead>\n",
       "    <tr style=\"text-align: right;\">\n",
       "      <th></th>\n",
       "      <th>Unnamed: 0</th>\n",
       "      <th>Customer Lifetime Value</th>\n",
       "      <th>Income</th>\n",
       "      <th>Monthly Premium Auto</th>\n",
       "      <th>Months Since Last Claim</th>\n",
       "      <th>Months Since Policy Inception</th>\n",
       "      <th>Number of Open Complaints</th>\n",
       "      <th>Number of Policies</th>\n",
       "      <th>Total Claim Amount</th>\n",
       "    </tr>\n",
       "  </thead>\n",
       "  <tbody>\n",
       "    <tr>\n",
       "      <th>0</th>\n",
       "      <td>2</td>\n",
       "      <td>14947.917300</td>\n",
       "      <td>22139</td>\n",
       "      <td>100</td>\n",
       "      <td>34.0</td>\n",
       "      <td>31</td>\n",
       "      <td>0.0</td>\n",
       "      <td>2</td>\n",
       "      <td>480.000000</td>\n",
       "    </tr>\n",
       "    <tr>\n",
       "      <th>1</th>\n",
       "      <td>3</td>\n",
       "      <td>22332.439460</td>\n",
       "      <td>49078</td>\n",
       "      <td>97</td>\n",
       "      <td>10.0</td>\n",
       "      <td>3</td>\n",
       "      <td>0.0</td>\n",
       "      <td>2</td>\n",
       "      <td>484.013411</td>\n",
       "    </tr>\n",
       "    <tr>\n",
       "      <th>2</th>\n",
       "      <td>10</td>\n",
       "      <td>5154.764074</td>\n",
       "      <td>82730</td>\n",
       "      <td>127</td>\n",
       "      <td>13.0</td>\n",
       "      <td>31</td>\n",
       "      <td>0.0</td>\n",
       "      <td>1</td>\n",
       "      <td>442.521087</td>\n",
       "    </tr>\n",
       "    <tr>\n",
       "      <th>3</th>\n",
       "      <td>13</td>\n",
       "      <td>5454.587929</td>\n",
       "      <td>66334</td>\n",
       "      <td>69</td>\n",
       "      <td>25.0</td>\n",
       "      <td>25</td>\n",
       "      <td>0.0</td>\n",
       "      <td>4</td>\n",
       "      <td>331.200000</td>\n",
       "    </tr>\n",
       "    <tr>\n",
       "      <th>4</th>\n",
       "      <td>16</td>\n",
       "      <td>5326.677654</td>\n",
       "      <td>76717</td>\n",
       "      <td>66</td>\n",
       "      <td>26.0</td>\n",
       "      <td>10</td>\n",
       "      <td>0.0</td>\n",
       "      <td>6</td>\n",
       "      <td>300.528579</td>\n",
       "    </tr>\n",
       "  </tbody>\n",
       "</table>\n",
       "</div>"
      ],
      "text/plain": [
       "   Unnamed: 0  Customer Lifetime Value  Income  Monthly Premium Auto  \\\n",
       "0           2             14947.917300   22139                   100   \n",
       "1           3             22332.439460   49078                    97   \n",
       "2          10              5154.764074   82730                   127   \n",
       "3          13              5454.587929   66334                    69   \n",
       "4          16              5326.677654   76717                    66   \n",
       "\n",
       "   Months Since Last Claim  Months Since Policy Inception  \\\n",
       "0                     34.0                             31   \n",
       "1                     10.0                              3   \n",
       "2                     13.0                             31   \n",
       "3                     25.0                             25   \n",
       "4                     26.0                             10   \n",
       "\n",
       "   Number of Open Complaints  Number of Policies  Total Claim Amount  \n",
       "0                        0.0                   2          480.000000  \n",
       "1                        0.0                   2          484.013411  \n",
       "2                        0.0                   1          442.521087  \n",
       "3                        0.0                   4          331.200000  \n",
       "4                        0.0                   6          300.528579  "
      ]
     },
     "execution_count": 14,
     "metadata": {},
     "output_type": "execute_result"
    }
   ],
   "source": [
    "dfnum.head()"
   ]
  },
  {
   "cell_type": "code",
   "execution_count": 19,
   "id": "80efcecf",
   "metadata": {},
   "outputs": [
    {
     "name": "stderr",
     "output_type": "stream",
     "text": [
      "C:\\Users\\zeyad\\anaconda3\\lib\\site-packages\\pandas\\core\\frame.py:4308: SettingWithCopyWarning: \n",
      "A value is trying to be set on a copy of a slice from a DataFrame\n",
      "\n",
      "See the caveats in the documentation: https://pandas.pydata.org/pandas-docs/stable/user_guide/indexing.html#returning-a-view-versus-a-copy\n",
      "  return super().drop(\n"
     ]
    }
   ],
   "source": [
    "dfnum.drop(['Unnamed: 0'], axis = 1, inplace = True)\n"
   ]
  },
  {
   "cell_type": "code",
   "execution_count": 20,
   "id": "2101d271",
   "metadata": {},
   "outputs": [
    {
     "data": {
      "text/html": [
       "<div>\n",
       "<style scoped>\n",
       "    .dataframe tbody tr th:only-of-type {\n",
       "        vertical-align: middle;\n",
       "    }\n",
       "\n",
       "    .dataframe tbody tr th {\n",
       "        vertical-align: top;\n",
       "    }\n",
       "\n",
       "    .dataframe thead th {\n",
       "        text-align: right;\n",
       "    }\n",
       "</style>\n",
       "<table border=\"1\" class=\"dataframe\">\n",
       "  <thead>\n",
       "    <tr style=\"text-align: right;\">\n",
       "      <th></th>\n",
       "      <th>Customer Lifetime Value</th>\n",
       "      <th>Income</th>\n",
       "      <th>Monthly Premium Auto</th>\n",
       "      <th>Months Since Last Claim</th>\n",
       "      <th>Months Since Policy Inception</th>\n",
       "      <th>Number of Open Complaints</th>\n",
       "      <th>Number of Policies</th>\n",
       "      <th>Total Claim Amount</th>\n",
       "    </tr>\n",
       "  </thead>\n",
       "  <tbody>\n",
       "    <tr>\n",
       "      <th>0</th>\n",
       "      <td>14947.917300</td>\n",
       "      <td>22139</td>\n",
       "      <td>100</td>\n",
       "      <td>34.0</td>\n",
       "      <td>31</td>\n",
       "      <td>0.0</td>\n",
       "      <td>2</td>\n",
       "      <td>480.000000</td>\n",
       "    </tr>\n",
       "    <tr>\n",
       "      <th>1</th>\n",
       "      <td>22332.439460</td>\n",
       "      <td>49078</td>\n",
       "      <td>97</td>\n",
       "      <td>10.0</td>\n",
       "      <td>3</td>\n",
       "      <td>0.0</td>\n",
       "      <td>2</td>\n",
       "      <td>484.013411</td>\n",
       "    </tr>\n",
       "    <tr>\n",
       "      <th>2</th>\n",
       "      <td>5154.764074</td>\n",
       "      <td>82730</td>\n",
       "      <td>127</td>\n",
       "      <td>13.0</td>\n",
       "      <td>31</td>\n",
       "      <td>0.0</td>\n",
       "      <td>1</td>\n",
       "      <td>442.521087</td>\n",
       "    </tr>\n",
       "    <tr>\n",
       "      <th>3</th>\n",
       "      <td>5454.587929</td>\n",
       "      <td>66334</td>\n",
       "      <td>69</td>\n",
       "      <td>25.0</td>\n",
       "      <td>25</td>\n",
       "      <td>0.0</td>\n",
       "      <td>4</td>\n",
       "      <td>331.200000</td>\n",
       "    </tr>\n",
       "    <tr>\n",
       "      <th>4</th>\n",
       "      <td>5326.677654</td>\n",
       "      <td>76717</td>\n",
       "      <td>66</td>\n",
       "      <td>26.0</td>\n",
       "      <td>10</td>\n",
       "      <td>0.0</td>\n",
       "      <td>6</td>\n",
       "      <td>300.528579</td>\n",
       "    </tr>\n",
       "  </tbody>\n",
       "</table>\n",
       "</div>"
      ],
      "text/plain": [
       "   Customer Lifetime Value  Income  Monthly Premium Auto  \\\n",
       "0             14947.917300   22139                   100   \n",
       "1             22332.439460   49078                    97   \n",
       "2              5154.764074   82730                   127   \n",
       "3              5454.587929   66334                    69   \n",
       "4              5326.677654   76717                    66   \n",
       "\n",
       "   Months Since Last Claim  Months Since Policy Inception  \\\n",
       "0                     34.0                             31   \n",
       "1                     10.0                              3   \n",
       "2                     13.0                             31   \n",
       "3                     25.0                             25   \n",
       "4                     26.0                             10   \n",
       "\n",
       "   Number of Open Complaints  Number of Policies  Total Claim Amount  \n",
       "0                        0.0                   2          480.000000  \n",
       "1                        0.0                   2          484.013411  \n",
       "2                        0.0                   1          442.521087  \n",
       "3                        0.0                   4          331.200000  \n",
       "4                        0.0                   6          300.528579  "
      ]
     },
     "execution_count": 20,
     "metadata": {},
     "output_type": "execute_result"
    }
   ],
   "source": [
    "dfnum.head()"
   ]
  },
  {
   "cell_type": "code",
   "execution_count": 22,
   "id": "17371bca",
   "metadata": {},
   "outputs": [
    {
     "data": {
      "image/png": "[encoded data removed]",
      "text/plain": [
       "<Figure size 720x720 with 9 Axes>"
      ]
     },
     "metadata": {
      "needs_background": "light"
     },
     "output_type": "display_data"
    }
   ],
   "source": [
    "dfnum.hist(bins=20,figsize=(10,10));\n"
   ]
  },
  {
   "cell_type": "code",
   "execution_count": 36,
   "id": "aa73514b",
   "metadata": {},
   "outputs": [],
   "source": [
    "iqr=np.percentile(dfnum['Customer Lifetime Value'],75)-np.percentile(dfnum['Customer Lifetime Value'],25)\n",
    "\n"
   ]
  },
  {
   "cell_type": "code",
   "execution_count": 38,
   "id": "ffb4b497",
   "metadata": {},
   "outputs": [],
   "source": [
    "upper_limit= np.percentile(dfnum['Customer Lifetime Value'],75)+ 1.5*iqr\n"
   ]
  },
  {
   "cell_type": "code",
   "execution_count": 39,
   "id": "a033e282",
   "metadata": {},
   "outputs": [
    {
     "data": {
      "text/plain": [
       "16282.857491249997"
      ]
     },
     "execution_count": 39,
     "metadata": {},
     "output_type": "execute_result"
    }
   ],
   "source": [
    "upper_limit\n"
   ]
  },
  {
   "cell_type": "code",
   "execution_count": 41,
   "id": "1468df2e",
   "metadata": {},
   "outputs": [],
   "source": [
    "lower_limit= np.percentile(dfnum['Customer Lifetime Value'],25)- 1.5*iqr\n"
   ]
  },
  {
   "cell_type": "code",
   "execution_count": 42,
   "id": "d7419a3d",
   "metadata": {},
   "outputs": [
    {
     "data": {
      "text/plain": [
       "-3307.1706507499985"
      ]
     },
     "execution_count": 42,
     "metadata": {},
     "output_type": "execute_result"
    }
   ],
   "source": [
    "lower_limit"
   ]
  },
  {
   "cell_type": "code",
   "execution_count": 43,
   "id": "bb37eddc",
   "metadata": {},
   "outputs": [
    {
     "name": "stdout",
     "output_type": "stream",
     "text": [
      "<class 'pandas.core.frame.DataFrame'>\n",
      "Int64Index: 3908 entries, 0 to 4542\n",
      "Data columns (total 26 columns):\n",
      " #   Column                         Non-Null Count  Dtype         \n",
      "---  ------                         --------------  -----         \n",
      " 0   Unnamed: 0                     3908 non-null   int64         \n",
      " 1   Customer                       3908 non-null   object        \n",
      " 2   State                          3908 non-null   object        \n",
      " 3   Customer Lifetime Value        3908 non-null   float64       \n",
      " 4   Response                       3908 non-null   object        \n",
      " 5   Coverage                       3908 non-null   object        \n",
      " 6   Education                      3908 non-null   object        \n",
      " 7   Effective To Date              3908 non-null   datetime64[ns]\n",
      " 8   EmploymentStatus               3908 non-null   object        \n",
      " 9   Gender                         3908 non-null   object        \n",
      " 10  Income                         3908 non-null   int64         \n",
      " 11  Location Code                  3908 non-null   object        \n",
      " 12  Marital Status                 3908 non-null   object        \n",
      " 13  Monthly Premium Auto           3908 non-null   int64         \n",
      " 14  Months Since Last Claim        3908 non-null   float64       \n",
      " 15  Months Since Policy Inception  3908 non-null   int64         \n",
      " 16  Number of Open Complaints      3908 non-null   float64       \n",
      " 17  Number of Policies             3908 non-null   int64         \n",
      " 18  Policy Type                    3908 non-null   object        \n",
      " 19  Policy                         3908 non-null   object        \n",
      " 20  Renew Offer Type               3908 non-null   object        \n",
      " 21  Sales Channel                  3908 non-null   object        \n",
      " 22  Total Claim Amount             3908 non-null   float64       \n",
      " 23  Vehicle Class                  3908 non-null   object        \n",
      " 24  Vehicle Size                   3908 non-null   object        \n",
      " 25  Vehicle Type                   3908 non-null   object        \n",
      "dtypes: datetime64[ns](1), float64(4), int64(5), object(16)\n",
      "memory usage: 824.3+ KB\n"
     ]
    }
   ],
   "source": [
    "data.info()\n"
   ]
  },
  {
   "cell_type": "code",
   "execution_count": 44,
   "id": "03081194",
   "metadata": {},
   "outputs": [],
   "source": [
    "data=data[(data['Customer Lifetime Value']>lower_limit)&(data['Customer Lifetime Value']<=upper_limit)]\n"
   ]
  },
  {
   "cell_type": "code",
   "execution_count": 45,
   "id": "10f990a4",
   "metadata": {},
   "outputs": [],
   "source": [
    "data.reset_index(drop=True, inplace=True)\n"
   ]
  },
  {
   "cell_type": "code",
   "execution_count": 46,
   "id": "6b25a585",
   "metadata": {},
   "outputs": [
    {
     "name": "stdout",
     "output_type": "stream",
     "text": [
      "<class 'pandas.core.frame.DataFrame'>\n",
      "RangeIndex: 3908 entries, 0 to 3907\n",
      "Data columns (total 26 columns):\n",
      " #   Column                         Non-Null Count  Dtype         \n",
      "---  ------                         --------------  -----         \n",
      " 0   Unnamed: 0                     3908 non-null   int64         \n",
      " 1   Customer                       3908 non-null   object        \n",
      " 2   State                          3908 non-null   object        \n",
      " 3   Customer Lifetime Value        3908 non-null   float64       \n",
      " 4   Response                       3908 non-null   object        \n",
      " 5   Coverage                       3908 non-null   object        \n",
      " 6   Education                      3908 non-null   object        \n",
      " 7   Effective To Date              3908 non-null   datetime64[ns]\n",
      " 8   EmploymentStatus               3908 non-null   object        \n",
      " 9   Gender                         3908 non-null   object        \n",
      " 10  Income                         3908 non-null   int64         \n",
      " 11  Location Code                  3908 non-null   object        \n",
      " 12  Marital Status                 3908 non-null   object        \n",
      " 13  Monthly Premium Auto           3908 non-null   int64         \n",
      " 14  Months Since Last Claim        3908 non-null   float64       \n",
      " 15  Months Since Policy Inception  3908 non-null   int64         \n",
      " 16  Number of Open Complaints      3908 non-null   float64       \n",
      " 17  Number of Policies             3908 non-null   int64         \n",
      " 18  Policy Type                    3908 non-null   object        \n",
      " 19  Policy                         3908 non-null   object        \n",
      " 20  Renew Offer Type               3908 non-null   object        \n",
      " 21  Sales Channel                  3908 non-null   object        \n",
      " 22  Total Claim Amount             3908 non-null   float64       \n",
      " 23  Vehicle Class                  3908 non-null   object        \n",
      " 24  Vehicle Size                   3908 non-null   object        \n",
      " 25  Vehicle Type                   3908 non-null   object        \n",
      "dtypes: datetime64[ns](1), float64(4), int64(5), object(16)\n",
      "memory usage: 793.9+ KB\n"
     ]
    }
   ],
   "source": [
    "data.info()"
   ]
  },
  {
   "cell_type": "code",
   "execution_count": 47,
   "id": "82a5567a",
   "metadata": {},
   "outputs": [
    {
     "data": {
      "text/plain": [
       "<AxesSubplot:>"
      ]
     },
     "execution_count": 47,
     "metadata": {},
     "output_type": "execute_result"
    },
    {
     "data": {
      "image/png": "[encoded data removed]",
      "text/plain": [
       "<Figure size 432x288 with 1 Axes>"
      ]
     },
     "metadata": {
      "needs_background": "light"
     },
     "output_type": "display_data"
    }
   ],
   "source": [
    "data['Customer Lifetime Value'].hist()\n"
   ]
  },
  {
   "cell_type": "code",
   "execution_count": 50,
   "id": "e4d607e5",
   "metadata": {},
   "outputs": [],
   "source": [
    "iqr=np.percentile(dfnum['Monthly Premium Auto'],75)-np.percentile(dfnum['Monthly Premium Auto'],25)\n",
    "upper_limit= np.percentile(dfnum['Monthly Premium Auto'],75)+ 1.5*iqr\n",
    "lower_limit= np.percentile(dfnum['Monthly Premium Auto'],25)- 1.5*iqr\n",
    "data=data[(data['Monthly Premium Auto']>lower_limit)&(data['Monthly Premium Auto']<=upper_limit)]\n",
    "data.reset_index(drop=True, inplace=True)\n"
   ]
  },
  {
   "cell_type": "code",
   "execution_count": 51,
   "id": "b63cd5ba",
   "metadata": {},
   "outputs": [
    {
     "data": {
      "text/plain": [
       "<AxesSubplot:>"
      ]
     },
     "execution_count": 51,
     "metadata": {},
     "output_type": "execute_result"
    },
    {
     "data": {
      "image/png": "[encoded data removed]",
      "text/plain": [
       "<Figure size 432x288 with 1 Axes>"
      ]
     },
     "metadata": {
      "needs_background": "light"
     },
     "output_type": "display_data"
    }
   ],
   "source": [
    "data['Monthly Premium Auto'].hist()\n"
   ]
  },
  {
   "cell_type": "code",
   "execution_count": 54,
   "id": "783c3aa1",
   "metadata": {},
   "outputs": [],
   "source": [
    "iqr=np.percentile(dfnum['Total Claim Amount'],75)-np.percentile(dfnum['Total Claim Amount'],25)\n",
    "upper_limit= np.percentile(dfnum['Total Claim Amount'],75)+ 1.5*iqr\n",
    "lower_limit= np.percentile(dfnum['Total Claim Amount'],25)- 1.5*iqr\n",
    "data=data[(data['Total Claim Amount']>lower_limit)&(data['Total Claim Amount']<=upper_limit)]\n",
    "data.reset_index(drop=True, inplace=True)"
   ]
  },
  {
   "cell_type": "code",
   "execution_count": 55,
   "id": "5d1e7e10",
   "metadata": {},
   "outputs": [
    {
     "data": {
      "text/plain": [
       "<AxesSubplot:>"
      ]
     },
     "execution_count": 55,
     "metadata": {},
     "output_type": "execute_result"
    },
    {
     "data": {
      "image/png": "[encoded data removed]",
      "text/plain": [
       "<Figure size 432x288 with 1 Axes>"
      ]
     },
     "metadata": {
      "needs_background": "light"
     },
     "output_type": "display_data"
    }
   ],
   "source": [
    "data['Total Claim Amount'].hist()\n"
   ]
  },
  {
   "cell_type": "code",
   "execution_count": 58,
   "id": "f20179f4",
   "metadata": {},
   "outputs": [
    {
     "data": {
      "image/png": "[encoded data removed]",
      "text/plain": [
       "<Figure size 720x720 with 12 Axes>"
      ]
     },
     "metadata": {
      "needs_background": "light"
     },
     "output_type": "display_data"
    }
   ],
   "source": [
    "data.hist(bins=20,figsize=(10,10));\n"
   ]
  },
  {
   "cell_type": "code",
   "execution_count": 59,
   "id": "bc7a7e72",
   "metadata": {},
   "outputs": [],
   "source": [
    "y = data['Total Claim Amount']\n"
   ]
  },
  {
   "cell_type": "code",
   "execution_count": 65,
   "id": "22fdadb1",
   "metadata": {},
   "outputs": [
    {
     "name": "stdout",
     "output_type": "stream",
     "text": [
      "<class 'pandas.core.frame.DataFrame'>\n",
      "RangeIndex: 3908 entries, 0 to 3907\n",
      "Data columns (total 25 columns):\n",
      " #   Column                         Non-Null Count  Dtype         \n",
      "---  ------                         --------------  -----         \n",
      " 0   Unnamed: 0                     3908 non-null   int64         \n",
      " 1   Customer                       3908 non-null   object        \n",
      " 2   State                          3908 non-null   object        \n",
      " 3   Customer Lifetime Value        3908 non-null   float64       \n",
      " 4   Response                       3908 non-null   object        \n",
      " 5   Coverage                       3908 non-null   object        \n",
      " 6   Education                      3908 non-null   object        \n",
      " 7   Effective To Date              3908 non-null   datetime64[ns]\n",
      " 8   EmploymentStatus               3908 non-null   object        \n",
      " 9   Gender                         3908 non-null   object        \n",
      " 10  Income                         3908 non-null   int64         \n",
      " 11  Location Code                  3908 non-null   object        \n",
      " 12  Marital Status                 3908 non-null   object        \n",
      " 13  Monthly Premium Auto           3908 non-null   int64         \n",
      " 14  Months Since Last Claim        3908 non-null   float64       \n",
      " 15  Months Since Policy Inception  3908 non-null   int64         \n",
      " 16  Number of Open Complaints      3908 non-null   float64       \n",
      " 17  Number of Policies             3908 non-null   int64         \n",
      " 18  Policy Type                    3908 non-null   object        \n",
      " 19  Policy                         3908 non-null   object        \n",
      " 20  Renew Offer Type               3908 non-null   object        \n",
      " 21  Sales Channel                  3908 non-null   object        \n",
      " 22  Vehicle Class                  3908 non-null   object        \n",
      " 23  Vehicle Size                   3908 non-null   object        \n",
      " 24  Vehicle Type                   3908 non-null   object        \n",
      "dtypes: datetime64[ns](1), float64(3), int64(5), object(16)\n",
      "memory usage: 763.4+ KB\n"
     ]
    }
   ],
   "source": [
    "data.info()\n"
   ]
  },
  {
   "cell_type": "code",
   "execution_count": 66,
   "id": "ea6647a4",
   "metadata": {},
   "outputs": [],
   "source": [
    "datanum=data.select_dtypes(include=np.number)\n"
   ]
  },
  {
   "cell_type": "code",
   "execution_count": 67,
   "id": "79ff7fd0",
   "metadata": {},
   "outputs": [],
   "source": [
    "datacat=data.select_dtypes(include=object)\n"
   ]
  },
  {
   "cell_type": "code",
   "execution_count": 85,
   "id": "0a903282",
   "metadata": {},
   "outputs": [],
   "source": [
    "date=np.array(data['Effective To Date'])"
   ]
  },
  {
   "cell_type": "code",
   "execution_count": 86,
   "id": "84a7604f",
   "metadata": {},
   "outputs": [
    {
     "data": {
      "text/plain": [
       "array(['2011-02-10T00:00:00.000000000', '2011-01-02T00:00:00.000000000',\n",
       "       '2011-01-26T00:00:00.000000000', ...,\n",
       "       '2011-01-07T00:00:00.000000000', '2011-01-06T00:00:00.000000000',\n",
       "       '2011-02-13T00:00:00.000000000'], dtype='datetime64[ns]')"
      ]
     },
     "execution_count": 86,
     "metadata": {},
     "output_type": "execute_result"
    }
   ],
   "source": [
    "date"
   ]
  },
  {
   "cell_type": "code",
   "execution_count": 90,
   "id": "77d7f851",
   "metadata": {},
   "outputs": [],
   "source": [
    "data['Effective To Date']=pd.to_datetime(data['Effective To Date'],errors='coerce')"
   ]
  },
  {
   "cell_type": "code",
   "execution_count": 170,
   "id": "76cba994",
   "metadata": {},
   "outputs": [
    {
     "data": {
      "text/plain": [
       "array([[0.68965517],\n",
       "       [0.01724138],\n",
       "       [0.43103448],\n",
       "       ...,\n",
       "       [0.10344828],\n",
       "       [0.0862069 ],\n",
       "       [0.74137931]])"
      ]
     },
     "execution_count": 170,
     "metadata": {},
     "output_type": "execute_result"
    }
   ],
   "source": [
    "from sklearn.preprocessing import MinMaxScaler\n",
    "transformer = MinMaxScaler().fit(data[['Effective To Date']])\n",
    "df_minmax =transformer.transform(data[['Effective To Date']])\n",
    "df_minmax\n"
   ]
  },
  {
   "cell_type": "code",
   "execution_count": null,
   "id": "b4c85d4b",
   "metadata": {},
   "outputs": [],
   "source": []
  },
  {
   "cell_type": "code",
   "execution_count": 171,
   "id": "d77e0efa",
   "metadata": {},
   "outputs": [
    {
     "name": "stdout",
     "output_type": "stream",
     "text": [
      "<class 'pandas.core.frame.DataFrame'>\n",
      "RangeIndex: 3908 entries, 0 to 3907\n",
      "Data columns (total 16 columns):\n",
      " #   Column            Non-Null Count  Dtype \n",
      "---  ------            --------------  ----- \n",
      " 0   Customer          3908 non-null   object\n",
      " 1   State             3908 non-null   object\n",
      " 2   Response          3908 non-null   object\n",
      " 3   Coverage          3908 non-null   object\n",
      " 4   Education         3908 non-null   object\n",
      " 5   EmploymentStatus  3908 non-null   object\n",
      " 6   Gender            3908 non-null   object\n",
      " 7   Location Code     3908 non-null   object\n",
      " 8   Marital Status    3908 non-null   object\n",
      " 9   Policy Type       3908 non-null   object\n",
      " 10  Policy            3908 non-null   object\n",
      " 11  Renew Offer Type  3908 non-null   object\n",
      " 12  Sales Channel     3908 non-null   object\n",
      " 13  Vehicle Class     3908 non-null   object\n",
      " 14  Vehicle Size      3908 non-null   object\n",
      " 15  Vehicle Type      3908 non-null   object\n",
      "dtypes: object(16)\n",
      "memory usage: 488.6+ KB\n"
     ]
    }
   ],
   "source": [
    "datacat.info()"
   ]
  },
  {
   "cell_type": "code",
   "execution_count": 172,
   "id": "f60a1d40",
   "metadata": {},
   "outputs": [],
   "source": [
    "from sklearn.preprocessing import StandardScaler\n",
    "scaler = StandardScaler()\n",
    "scaler.fit(datanum)\n",
    "StandardScaler()\n",
    "dfminmax=scaler.transform(datanum)"
   ]
  },
  {
   "cell_type": "code",
   "execution_count": 173,
   "id": "f707d75d",
   "metadata": {},
   "outputs": [],
   "source": [
    "from sklearn.preprocessing import OneHotEncoder\n",
    "encoder = OneHotEncoder(handle_unknown='error').fit(datacat)\n",
    "ohe = encoder.transform(datacat).toarray()"
   ]
  },
  {
   "cell_type": "code",
   "execution_count": 174,
   "id": "b4988f07",
   "metadata": {},
   "outputs": [
    {
     "data": {
      "text/html": [
       "<div>\n",
       "<style scoped>\n",
       "    .dataframe tbody tr th:only-of-type {\n",
       "        vertical-align: middle;\n",
       "    }\n",
       "\n",
       "    .dataframe tbody tr th {\n",
       "        vertical-align: top;\n",
       "    }\n",
       "\n",
       "    .dataframe thead th {\n",
       "        text-align: right;\n",
       "    }\n",
       "</style>\n",
       "<table border=\"1\" class=\"dataframe\">\n",
       "  <thead>\n",
       "    <tr style=\"text-align: right;\">\n",
       "      <th></th>\n",
       "      <th>0</th>\n",
       "      <th>1</th>\n",
       "      <th>2</th>\n",
       "      <th>3</th>\n",
       "      <th>4</th>\n",
       "      <th>5</th>\n",
       "      <th>6</th>\n",
       "      <th>7</th>\n",
       "      <th>8</th>\n",
       "      <th>9</th>\n",
       "      <th>...</th>\n",
       "      <th>3954</th>\n",
       "      <th>3955</th>\n",
       "      <th>3956</th>\n",
       "      <th>3957</th>\n",
       "      <th>3958</th>\n",
       "      <th>3959</th>\n",
       "      <th>3960</th>\n",
       "      <th>3961</th>\n",
       "      <th>3962</th>\n",
       "      <th>3963</th>\n",
       "    </tr>\n",
       "  </thead>\n",
       "  <tbody>\n",
       "    <tr>\n",
       "      <th>0</th>\n",
       "      <td>0.0</td>\n",
       "      <td>0.0</td>\n",
       "      <td>0.0</td>\n",
       "      <td>0.0</td>\n",
       "      <td>0.0</td>\n",
       "      <td>0.0</td>\n",
       "      <td>0.0</td>\n",
       "      <td>0.0</td>\n",
       "      <td>0.0</td>\n",
       "      <td>0.0</td>\n",
       "      <td>...</td>\n",
       "      <td>1.0</td>\n",
       "      <td>0.0</td>\n",
       "      <td>0.0</td>\n",
       "      <td>1.0</td>\n",
       "      <td>0.0</td>\n",
       "      <td>0.0</td>\n",
       "      <td>0.0</td>\n",
       "      <td>1.0</td>\n",
       "      <td>0.0</td>\n",
       "      <td>1.0</td>\n",
       "    </tr>\n",
       "    <tr>\n",
       "      <th>1</th>\n",
       "      <td>0.0</td>\n",
       "      <td>0.0</td>\n",
       "      <td>0.0</td>\n",
       "      <td>0.0</td>\n",
       "      <td>0.0</td>\n",
       "      <td>0.0</td>\n",
       "      <td>0.0</td>\n",
       "      <td>0.0</td>\n",
       "      <td>0.0</td>\n",
       "      <td>0.0</td>\n",
       "      <td>...</td>\n",
       "      <td>0.0</td>\n",
       "      <td>0.0</td>\n",
       "      <td>0.0</td>\n",
       "      <td>1.0</td>\n",
       "      <td>0.0</td>\n",
       "      <td>0.0</td>\n",
       "      <td>1.0</td>\n",
       "      <td>0.0</td>\n",
       "      <td>0.0</td>\n",
       "      <td>1.0</td>\n",
       "    </tr>\n",
       "    <tr>\n",
       "      <th>2</th>\n",
       "      <td>0.0</td>\n",
       "      <td>0.0</td>\n",
       "      <td>0.0</td>\n",
       "      <td>0.0</td>\n",
       "      <td>0.0</td>\n",
       "      <td>0.0</td>\n",
       "      <td>0.0</td>\n",
       "      <td>0.0</td>\n",
       "      <td>0.0</td>\n",
       "      <td>0.0</td>\n",
       "      <td>...</td>\n",
       "      <td>1.0</td>\n",
       "      <td>0.0</td>\n",
       "      <td>0.0</td>\n",
       "      <td>0.0</td>\n",
       "      <td>0.0</td>\n",
       "      <td>1.0</td>\n",
       "      <td>0.0</td>\n",
       "      <td>1.0</td>\n",
       "      <td>0.0</td>\n",
       "      <td>1.0</td>\n",
       "    </tr>\n",
       "    <tr>\n",
       "      <th>3</th>\n",
       "      <td>0.0</td>\n",
       "      <td>0.0</td>\n",
       "      <td>0.0</td>\n",
       "      <td>0.0</td>\n",
       "      <td>0.0</td>\n",
       "      <td>0.0</td>\n",
       "      <td>0.0</td>\n",
       "      <td>0.0</td>\n",
       "      <td>0.0</td>\n",
       "      <td>0.0</td>\n",
       "      <td>...</td>\n",
       "      <td>1.0</td>\n",
       "      <td>0.0</td>\n",
       "      <td>0.0</td>\n",
       "      <td>0.0</td>\n",
       "      <td>0.0</td>\n",
       "      <td>1.0</td>\n",
       "      <td>1.0</td>\n",
       "      <td>0.0</td>\n",
       "      <td>0.0</td>\n",
       "      <td>1.0</td>\n",
       "    </tr>\n",
       "    <tr>\n",
       "      <th>4</th>\n",
       "      <td>0.0</td>\n",
       "      <td>0.0</td>\n",
       "      <td>0.0</td>\n",
       "      <td>0.0</td>\n",
       "      <td>0.0</td>\n",
       "      <td>0.0</td>\n",
       "      <td>0.0</td>\n",
       "      <td>0.0</td>\n",
       "      <td>0.0</td>\n",
       "      <td>0.0</td>\n",
       "      <td>...</td>\n",
       "      <td>0.0</td>\n",
       "      <td>0.0</td>\n",
       "      <td>0.0</td>\n",
       "      <td>0.0</td>\n",
       "      <td>0.0</td>\n",
       "      <td>1.0</td>\n",
       "      <td>0.0</td>\n",
       "      <td>1.0</td>\n",
       "      <td>0.0</td>\n",
       "      <td>1.0</td>\n",
       "    </tr>\n",
       "    <tr>\n",
       "      <th>...</th>\n",
       "      <td>...</td>\n",
       "      <td>...</td>\n",
       "      <td>...</td>\n",
       "      <td>...</td>\n",
       "      <td>...</td>\n",
       "      <td>...</td>\n",
       "      <td>...</td>\n",
       "      <td>...</td>\n",
       "      <td>...</td>\n",
       "      <td>...</td>\n",
       "      <td>...</td>\n",
       "      <td>...</td>\n",
       "      <td>...</td>\n",
       "      <td>...</td>\n",
       "      <td>...</td>\n",
       "      <td>...</td>\n",
       "      <td>...</td>\n",
       "      <td>...</td>\n",
       "      <td>...</td>\n",
       "      <td>...</td>\n",
       "      <td>...</td>\n",
       "    </tr>\n",
       "    <tr>\n",
       "      <th>3903</th>\n",
       "      <td>0.0</td>\n",
       "      <td>0.0</td>\n",
       "      <td>0.0</td>\n",
       "      <td>0.0</td>\n",
       "      <td>0.0</td>\n",
       "      <td>0.0</td>\n",
       "      <td>0.0</td>\n",
       "      <td>0.0</td>\n",
       "      <td>0.0</td>\n",
       "      <td>0.0</td>\n",
       "      <td>...</td>\n",
       "      <td>0.0</td>\n",
       "      <td>1.0</td>\n",
       "      <td>0.0</td>\n",
       "      <td>1.0</td>\n",
       "      <td>0.0</td>\n",
       "      <td>0.0</td>\n",
       "      <td>0.0</td>\n",
       "      <td>1.0</td>\n",
       "      <td>0.0</td>\n",
       "      <td>1.0</td>\n",
       "    </tr>\n",
       "    <tr>\n",
       "      <th>3904</th>\n",
       "      <td>0.0</td>\n",
       "      <td>0.0</td>\n",
       "      <td>0.0</td>\n",
       "      <td>0.0</td>\n",
       "      <td>0.0</td>\n",
       "      <td>0.0</td>\n",
       "      <td>0.0</td>\n",
       "      <td>0.0</td>\n",
       "      <td>0.0</td>\n",
       "      <td>0.0</td>\n",
       "      <td>...</td>\n",
       "      <td>0.0</td>\n",
       "      <td>0.0</td>\n",
       "      <td>1.0</td>\n",
       "      <td>0.0</td>\n",
       "      <td>0.0</td>\n",
       "      <td>0.0</td>\n",
       "      <td>0.0</td>\n",
       "      <td>1.0</td>\n",
       "      <td>0.0</td>\n",
       "      <td>1.0</td>\n",
       "    </tr>\n",
       "    <tr>\n",
       "      <th>3905</th>\n",
       "      <td>0.0</td>\n",
       "      <td>0.0</td>\n",
       "      <td>0.0</td>\n",
       "      <td>0.0</td>\n",
       "      <td>0.0</td>\n",
       "      <td>0.0</td>\n",
       "      <td>0.0</td>\n",
       "      <td>0.0</td>\n",
       "      <td>0.0</td>\n",
       "      <td>0.0</td>\n",
       "      <td>...</td>\n",
       "      <td>0.0</td>\n",
       "      <td>0.0</td>\n",
       "      <td>0.0</td>\n",
       "      <td>0.0</td>\n",
       "      <td>0.0</td>\n",
       "      <td>1.0</td>\n",
       "      <td>0.0</td>\n",
       "      <td>1.0</td>\n",
       "      <td>0.0</td>\n",
       "      <td>1.0</td>\n",
       "    </tr>\n",
       "    <tr>\n",
       "      <th>3906</th>\n",
       "      <td>0.0</td>\n",
       "      <td>0.0</td>\n",
       "      <td>0.0</td>\n",
       "      <td>0.0</td>\n",
       "      <td>0.0</td>\n",
       "      <td>0.0</td>\n",
       "      <td>0.0</td>\n",
       "      <td>0.0</td>\n",
       "      <td>0.0</td>\n",
       "      <td>0.0</td>\n",
       "      <td>...</td>\n",
       "      <td>0.0</td>\n",
       "      <td>0.0</td>\n",
       "      <td>1.0</td>\n",
       "      <td>0.0</td>\n",
       "      <td>0.0</td>\n",
       "      <td>0.0</td>\n",
       "      <td>0.0</td>\n",
       "      <td>1.0</td>\n",
       "      <td>0.0</td>\n",
       "      <td>1.0</td>\n",
       "    </tr>\n",
       "    <tr>\n",
       "      <th>3907</th>\n",
       "      <td>0.0</td>\n",
       "      <td>0.0</td>\n",
       "      <td>0.0</td>\n",
       "      <td>0.0</td>\n",
       "      <td>0.0</td>\n",
       "      <td>0.0</td>\n",
       "      <td>0.0</td>\n",
       "      <td>0.0</td>\n",
       "      <td>0.0</td>\n",
       "      <td>0.0</td>\n",
       "      <td>...</td>\n",
       "      <td>0.0</td>\n",
       "      <td>0.0</td>\n",
       "      <td>0.0</td>\n",
       "      <td>1.0</td>\n",
       "      <td>0.0</td>\n",
       "      <td>0.0</td>\n",
       "      <td>0.0</td>\n",
       "      <td>1.0</td>\n",
       "      <td>0.0</td>\n",
       "      <td>1.0</td>\n",
       "    </tr>\n",
       "  </tbody>\n",
       "</table>\n",
       "<p>3908 rows × 3964 columns</p>\n",
       "</div>"
      ],
      "text/plain": [
       "      0     1     2     3     4     5     6     7     8     9     ...  3954  \\\n",
       "0      0.0   0.0   0.0   0.0   0.0   0.0   0.0   0.0   0.0   0.0  ...   1.0   \n",
       "1      0.0   0.0   0.0   0.0   0.0   0.0   0.0   0.0   0.0   0.0  ...   0.0   \n",
       "2      0.0   0.0   0.0   0.0   0.0   0.0   0.0   0.0   0.0   0.0  ...   1.0   \n",
       "3      0.0   0.0   0.0   0.0   0.0   0.0   0.0   0.0   0.0   0.0  ...   1.0   \n",
       "4      0.0   0.0   0.0   0.0   0.0   0.0   0.0   0.0   0.0   0.0  ...   0.0   \n",
       "...    ...   ...   ...   ...   ...   ...   ...   ...   ...   ...  ...   ...   \n",
       "3903   0.0   0.0   0.0   0.0   0.0   0.0   0.0   0.0   0.0   0.0  ...   0.0   \n",
       "3904   0.0   0.0   0.0   0.0   0.0   0.0   0.0   0.0   0.0   0.0  ...   0.0   \n",
       "3905   0.0   0.0   0.0   0.0   0.0   0.0   0.0   0.0   0.0   0.0  ...   0.0   \n",
       "3906   0.0   0.0   0.0   0.0   0.0   0.0   0.0   0.0   0.0   0.0  ...   0.0   \n",
       "3907   0.0   0.0   0.0   0.0   0.0   0.0   0.0   0.0   0.0   0.0  ...   0.0   \n",
       "\n",
       "      3955  3956  3957  3958  3959  3960  3961  3962  3963  \n",
       "0      0.0   0.0   1.0   0.0   0.0   0.0   1.0   0.0   1.0  \n",
       "1      0.0   0.0   1.0   0.0   0.0   1.0   0.0   0.0   1.0  \n",
       "2      0.0   0.0   0.0   0.0   1.0   0.0   1.0   0.0   1.0  \n",
       "3      0.0   0.0   0.0   0.0   1.0   1.0   0.0   0.0   1.0  \n",
       "4      0.0   0.0   0.0   0.0   1.0   0.0   1.0   0.0   1.0  \n",
       "...    ...   ...   ...   ...   ...   ...   ...   ...   ...  \n",
       "3903   1.0   0.0   1.0   0.0   0.0   0.0   1.0   0.0   1.0  \n",
       "3904   0.0   1.0   0.0   0.0   0.0   0.0   1.0   0.0   1.0  \n",
       "3905   0.0   0.0   0.0   0.0   1.0   0.0   1.0   0.0   1.0  \n",
       "3906   0.0   1.0   0.0   0.0   0.0   0.0   1.0   0.0   1.0  \n",
       "3907   0.0   0.0   1.0   0.0   0.0   0.0   1.0   0.0   1.0  \n",
       "\n",
       "[3908 rows x 3964 columns]"
      ]
     },
     "execution_count": 174,
     "metadata": {},
     "output_type": "execute_result"
    }
   ],
   "source": [
    "ohedf=pd.DataFrame(ohe)\n",
    "ohedf"
   ]
  },
  {
   "cell_type": "code",
   "execution_count": 175,
   "id": "c1b53d40",
   "metadata": {},
   "outputs": [
    {
     "data": {
      "text/html": [
       "<div>\n",
       "<style scoped>\n",
       "    .dataframe tbody tr th:only-of-type {\n",
       "        vertical-align: middle;\n",
       "    }\n",
       "\n",
       "    .dataframe tbody tr th {\n",
       "        vertical-align: top;\n",
       "    }\n",
       "\n",
       "    .dataframe thead th {\n",
       "        text-align: right;\n",
       "    }\n",
       "</style>\n",
       "<table border=\"1\" class=\"dataframe\">\n",
       "  <thead>\n",
       "    <tr style=\"text-align: right;\">\n",
       "      <th></th>\n",
       "      <th>0</th>\n",
       "      <th>1</th>\n",
       "      <th>2</th>\n",
       "      <th>3</th>\n",
       "      <th>4</th>\n",
       "      <th>5</th>\n",
       "      <th>6</th>\n",
       "      <th>7</th>\n",
       "      <th>8</th>\n",
       "      <th>9</th>\n",
       "      <th>...</th>\n",
       "      <th>3962</th>\n",
       "      <th>3963</th>\n",
       "      <th>0</th>\n",
       "      <th>1</th>\n",
       "      <th>2</th>\n",
       "      <th>3</th>\n",
       "      <th>4</th>\n",
       "      <th>5</th>\n",
       "      <th>6</th>\n",
       "      <th>7</th>\n",
       "    </tr>\n",
       "  </thead>\n",
       "  <tbody>\n",
       "    <tr>\n",
       "      <th>0</th>\n",
       "      <td>0.0</td>\n",
       "      <td>0.0</td>\n",
       "      <td>0.0</td>\n",
       "      <td>0.0</td>\n",
       "      <td>0.0</td>\n",
       "      <td>0.0</td>\n",
       "      <td>0.0</td>\n",
       "      <td>0.0</td>\n",
       "      <td>0.0</td>\n",
       "      <td>0.0</td>\n",
       "      <td>...</td>\n",
       "      <td>0.0</td>\n",
       "      <td>1.0</td>\n",
       "      <td>-1.745356</td>\n",
       "      <td>2.867516</td>\n",
       "      <td>-0.523992</td>\n",
       "      <td>0.613122</td>\n",
       "      <td>1.883640</td>\n",
       "      <td>-0.604234</td>\n",
       "      <td>-0.429022</td>\n",
       "      <td>-0.429413</td>\n",
       "    </tr>\n",
       "    <tr>\n",
       "      <th>1</th>\n",
       "      <td>0.0</td>\n",
       "      <td>0.0</td>\n",
       "      <td>0.0</td>\n",
       "      <td>0.0</td>\n",
       "      <td>0.0</td>\n",
       "      <td>0.0</td>\n",
       "      <td>0.0</td>\n",
       "      <td>0.0</td>\n",
       "      <td>0.0</td>\n",
       "      <td>0.0</td>\n",
       "      <td>...</td>\n",
       "      <td>0.0</td>\n",
       "      <td>1.0</td>\n",
       "      <td>-1.742825</td>\n",
       "      <td>-0.305677</td>\n",
       "      <td>1.471701</td>\n",
       "      <td>1.828950</td>\n",
       "      <td>-0.198474</td>\n",
       "      <td>-0.604234</td>\n",
       "      <td>-0.429022</td>\n",
       "      <td>-0.835154</td>\n",
       "    </tr>\n",
       "    <tr>\n",
       "      <th>2</th>\n",
       "      <td>0.0</td>\n",
       "      <td>0.0</td>\n",
       "      <td>0.0</td>\n",
       "      <td>0.0</td>\n",
       "      <td>0.0</td>\n",
       "      <td>0.0</td>\n",
       "      <td>0.0</td>\n",
       "      <td>0.0</td>\n",
       "      <td>0.0</td>\n",
       "      <td>0.0</td>\n",
       "      <td>...</td>\n",
       "      <td>0.0</td>\n",
       "      <td>1.0</td>\n",
       "      <td>-1.741877</td>\n",
       "      <td>-0.208528</td>\n",
       "      <td>0.931664</td>\n",
       "      <td>-0.782828</td>\n",
       "      <td>0.991305</td>\n",
       "      <td>-0.817441</td>\n",
       "      <td>-0.429022</td>\n",
       "      <td>0.382069</td>\n",
       "    </tr>\n",
       "    <tr>\n",
       "      <th>3</th>\n",
       "      <td>0.0</td>\n",
       "      <td>0.0</td>\n",
       "      <td>0.0</td>\n",
       "      <td>0.0</td>\n",
       "      <td>0.0</td>\n",
       "      <td>0.0</td>\n",
       "      <td>0.0</td>\n",
       "      <td>0.0</td>\n",
       "      <td>0.0</td>\n",
       "      <td>0.0</td>\n",
       "      <td>...</td>\n",
       "      <td>0.0</td>\n",
       "      <td>1.0</td>\n",
       "      <td>-1.740928</td>\n",
       "      <td>-0.249974</td>\n",
       "      <td>1.273651</td>\n",
       "      <td>-0.917920</td>\n",
       "      <td>1.090454</td>\n",
       "      <td>-1.350460</td>\n",
       "      <td>-0.429022</td>\n",
       "      <td>1.193551</td>\n",
       "    </tr>\n",
       "    <tr>\n",
       "      <th>4</th>\n",
       "      <td>0.0</td>\n",
       "      <td>0.0</td>\n",
       "      <td>0.0</td>\n",
       "      <td>0.0</td>\n",
       "      <td>0.0</td>\n",
       "      <td>0.0</td>\n",
       "      <td>0.0</td>\n",
       "      <td>0.0</td>\n",
       "      <td>0.0</td>\n",
       "      <td>0.0</td>\n",
       "      <td>...</td>\n",
       "      <td>0.0</td>\n",
       "      <td>1.0</td>\n",
       "      <td>-1.740612</td>\n",
       "      <td>-1.166678</td>\n",
       "      <td>-1.253187</td>\n",
       "      <td>-0.782828</td>\n",
       "      <td>-0.991660</td>\n",
       "      <td>0.923754</td>\n",
       "      <td>-0.429022</td>\n",
       "      <td>-0.835154</td>\n",
       "    </tr>\n",
       "  </tbody>\n",
       "</table>\n",
       "<p>5 rows × 3972 columns</p>\n",
       "</div>"
      ],
      "text/plain": [
       "   0     1     2     3     4     5     6     7     8     9     ...  3962  \\\n",
       "0   0.0   0.0   0.0   0.0   0.0   0.0   0.0   0.0   0.0   0.0  ...   0.0   \n",
       "1   0.0   0.0   0.0   0.0   0.0   0.0   0.0   0.0   0.0   0.0  ...   0.0   \n",
       "2   0.0   0.0   0.0   0.0   0.0   0.0   0.0   0.0   0.0   0.0  ...   0.0   \n",
       "3   0.0   0.0   0.0   0.0   0.0   0.0   0.0   0.0   0.0   0.0  ...   0.0   \n",
       "4   0.0   0.0   0.0   0.0   0.0   0.0   0.0   0.0   0.0   0.0  ...   0.0   \n",
       "\n",
       "   3963      0         1         2         3         4         5         6     \\\n",
       "0   1.0 -1.745356  2.867516 -0.523992  0.613122  1.883640 -0.604234 -0.429022   \n",
       "1   1.0 -1.742825 -0.305677  1.471701  1.828950 -0.198474 -0.604234 -0.429022   \n",
       "2   1.0 -1.741877 -0.208528  0.931664 -0.782828  0.991305 -0.817441 -0.429022   \n",
       "3   1.0 -1.740928 -0.249974  1.273651 -0.917920  1.090454 -1.350460 -0.429022   \n",
       "4   1.0 -1.740612 -1.166678 -1.253187 -0.782828 -0.991660  0.923754 -0.429022   \n",
       "\n",
       "       7     \n",
       "0 -0.429413  \n",
       "1 -0.835154  \n",
       "2  0.382069  \n",
       "3  1.193551  \n",
       "4 -0.835154  \n",
       "\n",
       "[5 rows x 3972 columns]"
      ]
     },
     "execution_count": 175,
     "metadata": {},
     "output_type": "execute_result"
    }
   ],
   "source": [
    "newdata=pd.concat([ohedf,scaleddf],axis=1)\n",
    "newdata.head"
   ]
  },
  {
   "cell_type": "code",
   "execution_count": 176,
   "id": "fda8cdfb",
   "metadata": {},
   "outputs": [],
   "source": [
    "from sklearn.model_selection import train_test_split\n",
    "X_train,X_test,y_train,y_test=train_test_split(newdata,y, test_size=0.4, random_state=40)"
   ]
  },
  {
   "cell_type": "code",
   "execution_count": 177,
   "id": "39aeda08",
   "metadata": {},
   "outputs": [
    {
     "data": {
      "text/plain": [
       "(2344, 3972)"
      ]
     },
     "execution_count": 177,
     "metadata": {},
     "output_type": "execute_result"
    }
   ],
   "source": [
    "X_train.shape\n"
   ]
  },
  {
   "cell_type": "code",
   "execution_count": 178,
   "id": "9b7d7ed5",
   "metadata": {},
   "outputs": [
    {
     "data": {
      "text/html": [
       "<div>\n",
       "<style scoped>\n",
       "    .dataframe tbody tr th:only-of-type {\n",
       "        vertical-align: middle;\n",
       "    }\n",
       "\n",
       "    .dataframe tbody tr th {\n",
       "        vertical-align: top;\n",
       "    }\n",
       "\n",
       "    .dataframe thead th {\n",
       "        text-align: right;\n",
       "    }\n",
       "</style>\n",
       "<table border=\"1\" class=\"dataframe\">\n",
       "  <thead>\n",
       "    <tr style=\"text-align: right;\">\n",
       "      <th></th>\n",
       "      <th>0</th>\n",
       "      <th>1</th>\n",
       "      <th>2</th>\n",
       "      <th>3</th>\n",
       "      <th>4</th>\n",
       "      <th>5</th>\n",
       "      <th>6</th>\n",
       "      <th>7</th>\n",
       "      <th>8</th>\n",
       "      <th>9</th>\n",
       "      <th>...</th>\n",
       "      <th>3962</th>\n",
       "      <th>3963</th>\n",
       "      <th>0</th>\n",
       "      <th>1</th>\n",
       "      <th>2</th>\n",
       "      <th>3</th>\n",
       "      <th>4</th>\n",
       "      <th>5</th>\n",
       "      <th>6</th>\n",
       "      <th>7</th>\n",
       "    </tr>\n",
       "  </thead>\n",
       "  <tbody>\n",
       "    <tr>\n",
       "      <th>0</th>\n",
       "      <td>0.0</td>\n",
       "      <td>0.0</td>\n",
       "      <td>0.0</td>\n",
       "      <td>0.0</td>\n",
       "      <td>0.0</td>\n",
       "      <td>0.0</td>\n",
       "      <td>0.0</td>\n",
       "      <td>0.0</td>\n",
       "      <td>0.0</td>\n",
       "      <td>0.0</td>\n",
       "      <td>...</td>\n",
       "      <td>0.0</td>\n",
       "      <td>1.0</td>\n",
       "      <td>-1.745356</td>\n",
       "      <td>2.867516</td>\n",
       "      <td>-0.523992</td>\n",
       "      <td>0.613122</td>\n",
       "      <td>1.883640</td>\n",
       "      <td>-0.604234</td>\n",
       "      <td>-0.429022</td>\n",
       "      <td>-0.429413</td>\n",
       "    </tr>\n",
       "    <tr>\n",
       "      <th>1</th>\n",
       "      <td>0.0</td>\n",
       "      <td>0.0</td>\n",
       "      <td>0.0</td>\n",
       "      <td>0.0</td>\n",
       "      <td>0.0</td>\n",
       "      <td>0.0</td>\n",
       "      <td>0.0</td>\n",
       "      <td>0.0</td>\n",
       "      <td>0.0</td>\n",
       "      <td>0.0</td>\n",
       "      <td>...</td>\n",
       "      <td>0.0</td>\n",
       "      <td>1.0</td>\n",
       "      <td>-1.742825</td>\n",
       "      <td>-0.305677</td>\n",
       "      <td>1.471701</td>\n",
       "      <td>1.828950</td>\n",
       "      <td>-0.198474</td>\n",
       "      <td>-0.604234</td>\n",
       "      <td>-0.429022</td>\n",
       "      <td>-0.835154</td>\n",
       "    </tr>\n",
       "    <tr>\n",
       "      <th>2</th>\n",
       "      <td>0.0</td>\n",
       "      <td>0.0</td>\n",
       "      <td>0.0</td>\n",
       "      <td>0.0</td>\n",
       "      <td>0.0</td>\n",
       "      <td>0.0</td>\n",
       "      <td>0.0</td>\n",
       "      <td>0.0</td>\n",
       "      <td>0.0</td>\n",
       "      <td>0.0</td>\n",
       "      <td>...</td>\n",
       "      <td>0.0</td>\n",
       "      <td>1.0</td>\n",
       "      <td>-1.741877</td>\n",
       "      <td>-0.208528</td>\n",
       "      <td>0.931664</td>\n",
       "      <td>-0.782828</td>\n",
       "      <td>0.991305</td>\n",
       "      <td>-0.817441</td>\n",
       "      <td>-0.429022</td>\n",
       "      <td>0.382069</td>\n",
       "    </tr>\n",
       "    <tr>\n",
       "      <th>3</th>\n",
       "      <td>0.0</td>\n",
       "      <td>0.0</td>\n",
       "      <td>0.0</td>\n",
       "      <td>0.0</td>\n",
       "      <td>0.0</td>\n",
       "      <td>0.0</td>\n",
       "      <td>0.0</td>\n",
       "      <td>0.0</td>\n",
       "      <td>0.0</td>\n",
       "      <td>0.0</td>\n",
       "      <td>...</td>\n",
       "      <td>0.0</td>\n",
       "      <td>1.0</td>\n",
       "      <td>-1.740928</td>\n",
       "      <td>-0.249974</td>\n",
       "      <td>1.273651</td>\n",
       "      <td>-0.917920</td>\n",
       "      <td>1.090454</td>\n",
       "      <td>-1.350460</td>\n",
       "      <td>-0.429022</td>\n",
       "      <td>1.193551</td>\n",
       "    </tr>\n",
       "    <tr>\n",
       "      <th>4</th>\n",
       "      <td>0.0</td>\n",
       "      <td>0.0</td>\n",
       "      <td>0.0</td>\n",
       "      <td>0.0</td>\n",
       "      <td>0.0</td>\n",
       "      <td>0.0</td>\n",
       "      <td>0.0</td>\n",
       "      <td>0.0</td>\n",
       "      <td>0.0</td>\n",
       "      <td>0.0</td>\n",
       "      <td>...</td>\n",
       "      <td>0.0</td>\n",
       "      <td>1.0</td>\n",
       "      <td>-1.740612</td>\n",
       "      <td>-1.166678</td>\n",
       "      <td>-1.253187</td>\n",
       "      <td>-0.782828</td>\n",
       "      <td>-0.991660</td>\n",
       "      <td>0.923754</td>\n",
       "      <td>-0.429022</td>\n",
       "      <td>-0.835154</td>\n",
       "    </tr>\n",
       "  </tbody>\n",
       "</table>\n",
       "<p>5 rows × 3972 columns</p>\n",
       "</div>"
      ],
      "text/plain": [
       "   0     1     2     3     4     5     6     7     8     9     ...  3962  \\\n",
       "0   0.0   0.0   0.0   0.0   0.0   0.0   0.0   0.0   0.0   0.0  ...   0.0   \n",
       "1   0.0   0.0   0.0   0.0   0.0   0.0   0.0   0.0   0.0   0.0  ...   0.0   \n",
       "2   0.0   0.0   0.0   0.0   0.0   0.0   0.0   0.0   0.0   0.0  ...   0.0   \n",
       "3   0.0   0.0   0.0   0.0   0.0   0.0   0.0   0.0   0.0   0.0  ...   0.0   \n",
       "4   0.0   0.0   0.0   0.0   0.0   0.0   0.0   0.0   0.0   0.0  ...   0.0   \n",
       "\n",
       "   3963      0         1         2         3         4         5         6     \\\n",
       "0   1.0 -1.745356  2.867516 -0.523992  0.613122  1.883640 -0.604234 -0.429022   \n",
       "1   1.0 -1.742825 -0.305677  1.471701  1.828950 -0.198474 -0.604234 -0.429022   \n",
       "2   1.0 -1.741877 -0.208528  0.931664 -0.782828  0.991305 -0.817441 -0.429022   \n",
       "3   1.0 -1.740928 -0.249974  1.273651 -0.917920  1.090454 -1.350460 -0.429022   \n",
       "4   1.0 -1.740612 -1.166678 -1.253187 -0.782828 -0.991660  0.923754 -0.429022   \n",
       "\n",
       "       7     \n",
       "0 -0.429413  \n",
       "1 -0.835154  \n",
       "2  0.382069  \n",
       "3  1.193551  \n",
       "4 -0.835154  \n",
       "\n",
       "[5 rows x 3972 columns]"
      ]
     },
     "execution_count": 178,
     "metadata": {},
     "output_type": "execute_result"
    }
   ],
   "source": [
    "newdata=pd.concat([ohedf,scaleddf],axis=1)\n",
    "newdata.head()"
   ]
  },
  {
   "cell_type": "code",
   "execution_count": 179,
   "id": "cb46633a",
   "metadata": {},
   "outputs": [],
   "source": [
    "X_train,X_test,y_train,y_test=train_test_split(newdata,y, test_size=0.3, random_state=100)\n"
   ]
  },
  {
   "cell_type": "code",
   "execution_count": 180,
   "id": "27b96736",
   "metadata": {},
   "outputs": [],
   "source": [
    "from sklearn import linear_model \n",
    "from sklearn.metrics import r2_score, mean_squared_error"
   ]
  },
  {
   "cell_type": "code",
   "execution_count": 181,
   "id": "4038c0eb",
   "metadata": {},
   "outputs": [],
   "source": [
    "lm=linear_model.LinearRegression()\n"
   ]
  },
  {
   "cell_type": "code",
   "execution_count": 182,
   "id": "6ab89c31",
   "metadata": {},
   "outputs": [],
   "source": [
    "model=lm.fit(X_train,y_train)\n",
    "predictions=lm.predict(X_test)"
   ]
  },
  {
   "cell_type": "code",
   "execution_count": 183,
   "id": "89e68f45",
   "metadata": {},
   "outputs": [
    {
     "data": {
      "text/plain": [
       "array([547.0044485 , 721.10034313, 457.78905166, ..., 331.59187731,\n",
       "       218.81269513,  63.96195141])"
      ]
     },
     "execution_count": 183,
     "metadata": {},
     "output_type": "execute_result"
    }
   ],
   "source": [
    "predictions\n"
   ]
  },
  {
   "cell_type": "markdown",
   "id": "542cb74d",
   "metadata": {},
   "source": [
    "## Our prediction of Total Claim Amount is 77% accurate"
   ]
  },
  {
   "cell_type": "code",
   "execution_count": 184,
   "id": "c112e96c",
   "metadata": {},
   "outputs": [
    {
     "data": {
      "text/plain": [
       "0.773826301516053"
      ]
     },
     "execution_count": 184,
     "metadata": {},
     "output_type": "execute_result"
    }
   ],
   "source": [
    "r2_score(y_test,predictions)"
   ]
  },
  {
   "cell_type": "markdown",
   "id": "a9eca94a",
   "metadata": {},
   "source": [
    "# We can predict Total Claim Amount to the nearest $9,939 - hmmm"
   ]
  },
  {
   "cell_type": "code",
   "execution_count": 185,
   "id": "9c0bb7bc",
   "metadata": {},
   "outputs": [
    {
     "data": {
      "text/plain": [
       "9939.42561549265"
      ]
     },
     "execution_count": 185,
     "metadata": {},
     "output_type": "execute_result"
    }
   ],
   "source": [
    "mean_squared_error(y_test,predictions)\n"
   ]
  },
  {
   "cell_type": "code",
   "execution_count": 186,
   "id": "0d6ee30f",
   "metadata": {},
   "outputs": [
    {
     "data": {
      "image/png": "[encoded data removed]",
      "text/plain": [
       "<Figure size 720x720 with 1 Axes>"
      ]
     },
     "metadata": {
      "needs_background": "light"
     },
     "output_type": "display_data"
    }
   ],
   "source": [
    "from pandas.plotting import scatter_matrix\n",
    "Date_MinMax= pd.DataFrame(df_minmax, columns= ['effective_to_date'])\n",
    "scatter_matrix(Date_MinMax,alpha=0.2,figsize=(10,10),diagonal='kde');"
   ]
  },
  {
   "cell_type": "code",
   "execution_count": 195,
   "id": "addf563e",
   "metadata": {},
   "outputs": [
    {
     "data": {
      "text/plain": [
       "292.800000    64\n",
       "316.800000    56\n",
       "331.200000    55\n",
       "350.400000    54\n",
       "302.400000    49\n",
       "              ..\n",
       "939.528475     1\n",
       "587.689075     1\n",
       "551.282130     1\n",
       "428.064465     1\n",
       "165.478147     1\n",
       "Name: Total Claim Amount, Length: 2716, dtype: int64"
      ]
     },
     "execution_count": 195,
     "metadata": {},
     "output_type": "execute_result"
    }
   ],
   "source": [
    "dfnum['Total Claim Amount'].value_counts()"
   ]
  },
  {
   "cell_type": "code",
   "execution_count": null,
   "id": "150ef4c0",
   "metadata": {},
   "outputs": [],
   "source": []
  }
 ],
 "metadata": {
  "kernelspec": {
   "display_name": "Python 3",
   "language": "python",
   "name": "python3"
  },
  "language_info": {
   "codemirror_mode": {
    "name": "ipython",
    "version": 3
   },
   "file_extension": ".py",
   "mimetype": "text/x-python",
   "name": "python",
   "nbconvert_exporter": "python",
   "pygments_lexer": "ipython3",
   "version": "3.8.8"
  }
 },
 "nbformat": 4,
 "nbformat_minor": 5
}
