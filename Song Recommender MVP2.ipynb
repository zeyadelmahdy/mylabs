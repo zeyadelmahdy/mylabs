{
 "cells": [
  {
   "cell_type": "markdown",
   "id": "a80a1a4f",
   "metadata": {},
   "source": [
    "# Creating a MVP for a Song Recommendation Tool "
   ]
  },
  {
   "cell_type": "markdown",
   "id": "9ed7b938",
   "metadata": {},
   "source": [
    "### Step 1: Scrape the data to be used as reference for the model"
   ]
  },
  {
   "cell_type": "code",
   "execution_count": 1,
   "id": "6504c28d",
   "metadata": {},
   "outputs": [],
   "source": [
    "\n",
    "import pandas as pd\n",
    "import requests\n",
    "from bs4 import BeautifulSoup\n",
    "from tqdm.notebook import tqdm"
   ]
  },
  {
   "cell_type": "code",
   "execution_count": 2,
   "id": "099007b5",
   "metadata": {},
   "outputs": [],
   "source": [
    "url = \"https://www.billboard.com/charts/hot-100/\"\n"
   ]
  },
  {
   "cell_type": "code",
   "execution_count": 3,
   "id": "6856379a",
   "metadata": {},
   "outputs": [],
   "source": [
    "response = requests.get(url)\n",
    "top100=BeautifulSoup(response.content,'html.parser')\n"
   ]
  },
  {
   "cell_type": "code",
   "execution_count": 4,
   "id": "1b09c497",
   "metadata": {},
   "outputs": [
    {
     "data": {
      "text/plain": [
       "'Adele'"
      ]
     },
     "execution_count": 4,
     "metadata": {},
     "output_type": "execute_result"
    }
   ],
   "source": [
    "top100.select('span.c-label.a-font-primary-s')[0].get_text(strip=True)\n"
   ]
  },
  {
   "cell_type": "code",
   "execution_count": 5,
   "id": "78849353",
   "metadata": {},
   "outputs": [
    {
     "data": {
      "text/plain": [
       "'Easy On Me'"
      ]
     },
     "execution_count": 5,
     "metadata": {},
     "output_type": "execute_result"
    }
   ],
   "source": [
    "top100.select('h3.c-title.a-no-trucate')[0].get_text(strip=True)\n"
   ]
  },
  {
   "cell_type": "code",
   "execution_count": 6,
   "id": "8600a148",
   "metadata": {},
   "outputs": [],
   "source": [
    "top_100 = len(top100.select('h3.c-title.a-no-trucate'))\n"
   ]
  },
  {
   "cell_type": "code",
   "execution_count": 7,
   "id": "91052065",
   "metadata": {},
   "outputs": [
    {
     "data": {
      "application/vnd.jupyter.widget-view+json": {
       "model_id": "9724461503b2481493967b10e361bb57",
       "version_major": 2,
       "version_minor": 0
      },
      "text/plain": [
       "  0%|          | 0/100 [00:00<?, ?it/s]"
      ]
     },
     "metadata": {},
     "output_type": "display_data"
    }
   ],
   "source": [
    "\n",
    "song = []\n",
    "artist = []\n",
    "\n",
    "for i in tqdm(range(top_100)):\n",
    "    song.append(top100.select('h3.c-title.a-no-trucate')[i].get_text(strip=True))\n",
    "    artist.append(top100.select('span.c-label.a-font-primary-s')[i].get_text(strip=True))\n",
    "    \n",
    "    \n",
    "   "
   ]
  },
  {
   "cell_type": "code",
   "execution_count": 8,
   "id": "210a41e4",
   "metadata": {},
   "outputs": [
    {
     "data": {
      "text/html": [
       "<div>\n",
       "<style scoped>\n",
       "    .dataframe tbody tr th:only-of-type {\n",
       "        vertical-align: middle;\n",
       "    }\n",
       "\n",
       "    .dataframe tbody tr th {\n",
       "        vertical-align: top;\n",
       "    }\n",
       "\n",
       "    .dataframe thead th {\n",
       "        text-align: right;\n",
       "    }\n",
       "</style>\n",
       "<table border=\"1\" class=\"dataframe\">\n",
       "  <thead>\n",
       "    <tr style=\"text-align: right;\">\n",
       "      <th></th>\n",
       "      <th>song</th>\n",
       "      <th>artist</th>\n",
       "    </tr>\n",
       "  </thead>\n",
       "  <tbody>\n",
       "    <tr>\n",
       "      <th>0</th>\n",
       "      <td>Easy On Me</td>\n",
       "      <td>Adele</td>\n",
       "    </tr>\n",
       "    <tr>\n",
       "      <th>1</th>\n",
       "      <td>Stay</td>\n",
       "      <td>The Kid LAROI &amp; Justin Bieber</td>\n",
       "    </tr>\n",
       "    <tr>\n",
       "      <th>2</th>\n",
       "      <td>Industry Baby</td>\n",
       "      <td>Lil Nas X &amp; Jack Harlow</td>\n",
       "    </tr>\n",
       "    <tr>\n",
       "      <th>3</th>\n",
       "      <td>All Too Well (Taylor's Version)</td>\n",
       "      <td>Taylor Swift</td>\n",
       "    </tr>\n",
       "    <tr>\n",
       "      <th>4</th>\n",
       "      <td>Oh My God</td>\n",
       "      <td>Adele</td>\n",
       "    </tr>\n",
       "    <tr>\n",
       "      <th>...</th>\n",
       "      <td>...</td>\n",
       "      <td>...</td>\n",
       "    </tr>\n",
       "    <tr>\n",
       "      <th>95</th>\n",
       "      <td>Too Easy</td>\n",
       "      <td>Gunna &amp; Future</td>\n",
       "    </tr>\n",
       "    <tr>\n",
       "      <th>96</th>\n",
       "      <td>Escape Plan</td>\n",
       "      <td>Travis Scott</td>\n",
       "    </tr>\n",
       "    <tr>\n",
       "      <th>97</th>\n",
       "      <td>Who's In Your Head</td>\n",
       "      <td>Jonas Brothers</td>\n",
       "    </tr>\n",
       "    <tr>\n",
       "      <th>98</th>\n",
       "      <td>Jugaste y Sufri</td>\n",
       "      <td>Eslabon Armado Featuring DannyLux</td>\n",
       "    </tr>\n",
       "    <tr>\n",
       "      <th>99</th>\n",
       "      <td>Take My Breath</td>\n",
       "      <td>The Weeknd</td>\n",
       "    </tr>\n",
       "  </tbody>\n",
       "</table>\n",
       "<p>100 rows × 2 columns</p>\n",
       "</div>"
      ],
      "text/plain": [
       "                               song                             artist\n",
       "0                        Easy On Me                              Adele\n",
       "1                              Stay      The Kid LAROI & Justin Bieber\n",
       "2                     Industry Baby            Lil Nas X & Jack Harlow\n",
       "3   All Too Well (Taylor's Version)                       Taylor Swift\n",
       "4                         Oh My God                              Adele\n",
       "..                              ...                                ...\n",
       "95                         Too Easy                     Gunna & Future\n",
       "96                      Escape Plan                       Travis Scott\n",
       "97               Who's In Your Head                     Jonas Brothers\n",
       "98                  Jugaste y Sufri  Eslabon Armado Featuring DannyLux\n",
       "99                   Take My Breath                         The Weeknd\n",
       "\n",
       "[100 rows x 2 columns]"
      ]
     },
     "execution_count": 8,
     "metadata": {},
     "output_type": "execute_result"
    }
   ],
   "source": [
    " top100_table = pd.DataFrame({'song':song, 'artist':artist})\n",
    "top100_table"
   ]
  },
  {
   "cell_type": "markdown",
   "id": "28e08193",
   "metadata": {},
   "source": [
    "### Step 2: Build the Recommender"
   ]
  },
  {
   "cell_type": "code",
   "execution_count": 9,
   "id": "a26d31af",
   "metadata": {},
   "outputs": [
    {
     "name": "stdout",
     "output_type": "stream",
     "text": [
      "Search here for a song! stay\n"
     ]
    }
   ],
   "source": [
    "#creating the user input \n",
    "song = input(\"Search here for a song! \").lower()"
   ]
  },
  {
   "cell_type": "code",
   "execution_count": 10,
   "id": "a1a3eb26",
   "metadata": {},
   "outputs": [
    {
     "data": {
      "text/html": [
       "<div>\n",
       "<style scoped>\n",
       "    .dataframe tbody tr th:only-of-type {\n",
       "        vertical-align: middle;\n",
       "    }\n",
       "\n",
       "    .dataframe tbody tr th {\n",
       "        vertical-align: top;\n",
       "    }\n",
       "\n",
       "    .dataframe thead th {\n",
       "        text-align: right;\n",
       "    }\n",
       "</style>\n",
       "<table border=\"1\" class=\"dataframe\">\n",
       "  <thead>\n",
       "    <tr style=\"text-align: right;\">\n",
       "      <th></th>\n",
       "      <th>song</th>\n",
       "      <th>artist</th>\n",
       "    </tr>\n",
       "  </thead>\n",
       "  <tbody>\n",
       "    <tr>\n",
       "      <th>1</th>\n",
       "      <td>Stay</td>\n",
       "      <td>The Kid LAROI &amp; Justin Bieber</td>\n",
       "    </tr>\n",
       "  </tbody>\n",
       "</table>\n",
       "</div>"
      ],
      "text/plain": [
       "   song                         artist\n",
       "1  Stay  The Kid LAROI & Justin Bieber"
      ]
     },
     "execution_count": 10,
     "metadata": {},
     "output_type": "execute_result"
    }
   ],
   "source": [
    "#Checking if the input is actually in the data frame\n",
    "\n",
    "check = top100_table[top100_table['song'].str.lower().str.contains(song)]\n",
    "check"
   ]
  },
  {
   "cell_type": "code",
   "execution_count": 11,
   "id": "9c862148",
   "metadata": {},
   "outputs": [],
   "source": [
    "#assign the relevant index number to list for later string-operations, model identifies song names through index\n",
    "\n",
    "index = check.index.tolist()"
   ]
  },
  {
   "cell_type": "code",
   "execution_count": 12,
   "id": "5f221e17",
   "metadata": {},
   "outputs": [
    {
     "data": {
      "text/plain": [
       "'Stay'"
      ]
     },
     "execution_count": 12,
     "metadata": {},
     "output_type": "execute_result"
    }
   ],
   "source": [
    "top100_table.song[index].values[0]"
   ]
  },
  {
   "cell_type": "code",
   "execution_count": 13,
   "id": "02271c9b",
   "metadata": {},
   "outputs": [
    {
     "name": "stdout",
     "output_type": "stream",
     "text": [
      "Did you mean Stay by The Kid LAROI & Justin Bieber? yes\n",
      "Well you got good taste alright! Here's another banger you might like called Tequila Little Time by Jon Pardi\n"
     ]
    }
   ],
   "source": [
    "# check if a value has been returned in the input or not - (is the value in our dataframe or not)\n",
    "if len(check) == 0:\n",
    "    print(\"That ain't it chief, try again..\")\n",
    "else: # in case the song was spelt in correctly, confirm the song name\n",
    "    answer = input(\"Did you mean \"+ top100_table.song[index].values[0] + \" by \" + top100_table.artist[index].values[0] + \"? \")\n",
    "        \n",
    "    if answer.lower() == 'yes':\n",
    "        suggestion = top100_table.sample().index.tolist()\n",
    "        print(\"Well you got good taste alright! Here's another banger you might like called \" + top100_table['song'][suggestion].item() + \" by \" +  top100_table['artist'][suggestion].item())\n",
    "    else: \n",
    "        print (\"I got nothing else for you, you should be dissapointed.. \" )\n",
    "        \n",
    "        \n",
    "\n",
    "\n",
    "\n",
    "  "
   ]
  },
  {
   "cell_type": "markdown",
   "id": "0428ec35",
   "metadata": {},
   "source": [
    "### Breaking each step down "
   ]
  },
  {
   "cell_type": "code",
   "execution_count": 14,
   "id": "1392f0c9",
   "metadata": {},
   "outputs": [
    {
     "name": "stdout",
     "output_type": "stream",
     "text": [
      "Enter your song here  baby\n"
     ]
    }
   ],
   "source": [
    "#step 1: create user input: \n",
    "\n",
    "song = input(\"Enter your song here  \").lower()\n",
    "\n",
    "\n",
    "\n",
    "\n",
    "# converting input to lowercase to standardize it "
   ]
  },
  {
   "cell_type": "code",
   "execution_count": 15,
   "id": "299ad54b",
   "metadata": {},
   "outputs": [
    {
     "data": {
      "text/html": [
       "<div>\n",
       "<style scoped>\n",
       "    .dataframe tbody tr th:only-of-type {\n",
       "        vertical-align: middle;\n",
       "    }\n",
       "\n",
       "    .dataframe tbody tr th {\n",
       "        vertical-align: top;\n",
       "    }\n",
       "\n",
       "    .dataframe thead th {\n",
       "        text-align: right;\n",
       "    }\n",
       "</style>\n",
       "<table border=\"1\" class=\"dataframe\">\n",
       "  <thead>\n",
       "    <tr style=\"text-align: right;\">\n",
       "      <th></th>\n",
       "      <th>song</th>\n",
       "      <th>artist</th>\n",
       "    </tr>\n",
       "  </thead>\n",
       "  <tbody>\n",
       "    <tr>\n",
       "      <th>2</th>\n",
       "      <td>Industry Baby</td>\n",
       "      <td>Lil Nas X &amp; Jack Harlow</td>\n",
       "    </tr>\n",
       "  </tbody>\n",
       "</table>\n",
       "</div>"
      ],
      "text/plain": [
       "            song                   artist\n",
       "2  Industry Baby  Lil Nas X & Jack Harlow"
      ]
     },
     "execution_count": 15,
     "metadata": {},
     "output_type": "execute_result"
    }
   ],
   "source": [
    "#step 2: create a check field to find if the user input is in the dataframe, if not? \n",
    "\n",
    "mic_check = top100_table[top100_table['song'].str.lower().str.contains(song)]\n",
    "mic_check\n",
    "\n",
    "\n",
    "# need to add str since lower only works if the value is a string, \n",
    "#the outer[] is to return the exact value and not a list of true and false\n",
    "#contains makes sure we are working on the user input"
   ]
  },
  {
   "cell_type": "code",
   "execution_count": 16,
   "id": "88c78804",
   "metadata": {},
   "outputs": [],
   "source": [
    "#Step 3: Assign the values an index so the recommender can return the names later based on that. \n",
    "\n",
    "index = mic_check.index.to_list()\n",
    "\n",
    "#to_list converts values into a list so we can work with it later"
   ]
  },
  {
   "cell_type": "code",
   "execution_count": 17,
   "id": "e4934917",
   "metadata": {},
   "outputs": [
    {
     "data": {
      "text/plain": [
       "'Industry Baby'"
      ]
     },
     "execution_count": 17,
     "metadata": {},
     "output_type": "execute_result"
    }
   ],
   "source": [
    "#Step 4: Create value to return the required songs - that we will use in the actual recommender code\n",
    "\n",
    "top100_table.song[index].values[0]"
   ]
  },
  {
   "cell_type": "code",
   "execution_count": 18,
   "id": "e1335859",
   "metadata": {},
   "outputs": [
    {
     "data": {
      "text/html": [
       "<div>\n",
       "<style scoped>\n",
       "    .dataframe tbody tr th:only-of-type {\n",
       "        vertical-align: middle;\n",
       "    }\n",
       "\n",
       "    .dataframe tbody tr th {\n",
       "        vertical-align: top;\n",
       "    }\n",
       "\n",
       "    .dataframe thead th {\n",
       "        text-align: right;\n",
       "    }\n",
       "</style>\n",
       "<table border=\"1\" class=\"dataframe\">\n",
       "  <thead>\n",
       "    <tr style=\"text-align: right;\">\n",
       "      <th></th>\n",
       "      <th>song</th>\n",
       "      <th>artist</th>\n",
       "    </tr>\n",
       "  </thead>\n",
       "  <tbody>\n",
       "    <tr>\n",
       "      <th>2</th>\n",
       "      <td>Industry Baby</td>\n",
       "      <td>Lil Nas X &amp; Jack Harlow</td>\n",
       "    </tr>\n",
       "  </tbody>\n",
       "</table>\n",
       "</div>"
      ],
      "text/plain": [
       "            song                   artist\n",
       "2  Industry Baby  Lil Nas X & Jack Harlow"
      ]
     },
     "execution_count": 18,
     "metadata": {},
     "output_type": "execute_result"
    }
   ],
   "source": [
    "mic_check"
   ]
  },
  {
   "cell_type": "code",
   "execution_count": 19,
   "id": "46780693",
   "metadata": {},
   "outputs": [
    {
     "name": "stdout",
     "output_type": "stream",
     "text": [
      "Enter your song here: baby\n",
      "I think we're onto something, did you mean Industry Baby by Lil Nas X & Jack Harlow? yes\n",
      "Seems like you got good taste in music! Try this song out by Taylor Swift it's called Red (Taylor's Version)\n"
     ]
    }
   ],
   "source": [
    "#Step 5: Create scenarios for each input \n",
    "\n",
    "while True: \n",
    "        song = input(\"Enter your song here: \").lower()\n",
    "        mic_check = top100_table[top100_table['song'].str.lower().str.contains(song)]\n",
    "        index = mic_check.index.to_list()\n",
    "        top100_table.song[index].values[0]\n",
    "\n",
    "        if len(mic_check) == 0:\n",
    "                 print(\"That ain't it chief, try again\")\n",
    "        else: \n",
    "            answer=input(\"I think we're onto something, did you mean \" + top100_table.song[index].values[0] + \" by \" + top100_table.artist[index].values[0] + \"? \")\n",
    "  \n",
    "            if answer.lower() == \"yes\":\n",
    "                suggestion=top100_table.sample().index.to_list()\n",
    "                print(\"Seems like you got good taste in music! Try this song out by \" + top100_table['artist'][suggestion].item() + \" it's called \" + top100_table['song'][suggestion].item())\n",
    "                break\n",
    "            else: \n",
    "                input(\"Ok, let's try that again now \")\n",
    "              "
   ]
  },
  {
   "cell_type": "code",
   "execution_count": null,
   "id": "2bb5df00",
   "metadata": {},
   "outputs": [],
   "source": []
  },
  {
   "cell_type": "code",
   "execution_count": 20,
   "id": "970e40cb",
   "metadata": {},
   "outputs": [
    {
     "name": "stdout",
     "output_type": "stream",
     "text": [
      "Enter your song here: baby\n",
      "I think we're onto something, did you mean Industry Baby by Lil Nas X & Jack Harlow? yes\n",
      "Seems like you got good taste in music! Try this song out by Drake Featuring Lil Baby it's called Girls Want Girls\n"
     ]
    }
   ],
   "source": [
    "\n",
    "while True: \n",
    "        song = input(\"Enter your song here: \").lower()\n",
    "        mic_check = top100_table[top100_table['song'].str.lower().str.contains(song)]\n",
    "        index = mic_check.index.to_list()\n",
    "        top100_table.song[index].values[0]\n",
    "\n",
    "        if len(mic_check) == 0:\n",
    "                 print(\"That ain't it chief, try again\")\n",
    "                 continue\n",
    "        else: \n",
    "            answer=input(\"I think we're onto something, did you mean \" + top100_table.song[index].values[0] + \" by \" + top100_table.artist[index].values[0] + \"? \")\n",
    "  \n",
    "            if answer.lower() == \"yes\":\n",
    "                suggestion=top100_table.sample().index.to_list()\n",
    "                print(\"Seems like you got good taste in music! Try this song out by \" + top100_table['artist'][suggestion].item() + \" it's called \" + top100_table['song'][suggestion].item())\n",
    "                break\n",
    "            else: \n",
    "                input(\"Ok, let's try that again now \")"
   ]
  },
  {
   "cell_type": "code",
   "execution_count": 21,
   "id": "27ac4a6f",
   "metadata": {},
   "outputs": [
    {
     "data": {
      "text/plain": [
       "1"
      ]
     },
     "execution_count": 21,
     "metadata": {},
     "output_type": "execute_result"
    }
   ],
   "source": [
    "len(mic_check)"
   ]
  },
  {
   "cell_type": "markdown",
   "id": "2f40713a",
   "metadata": {},
   "source": [
    "## Getting song data from Spotify"
   ]
  },
  {
   "cell_type": "code",
   "execution_count": 22,
   "id": "798da529",
   "metadata": {},
   "outputs": [],
   "source": [
    "import spotipy\n",
    "from spotipy.oauth2 import SpotifyClientCredentials"
   ]
  },
  {
   "cell_type": "code",
   "execution_count": 23,
   "id": "ac90fd58",
   "metadata": {},
   "outputs": [],
   "source": [
    "import getpass"
   ]
  },
  {
   "cell_type": "code",
   "execution_count": 24,
   "id": "a98e93a2",
   "metadata": {},
   "outputs": [
    {
     "name": "stdout",
     "output_type": "stream",
     "text": [
      "client_id?········\n",
      "client_secret?········\n"
     ]
    }
   ],
   "source": [
    "# inputting our spotify id & secret in an encrypted way\n",
    "client_id = str(getpass.getpass('client_id?'))\n",
    "client_secret=str(getpass.getpass('client_secret?'))"
   ]
  },
  {
   "cell_type": "code",
   "execution_count": 25,
   "id": "6998bcd1",
   "metadata": {},
   "outputs": [],
   "source": [
    "#embedding getpass credentials in the access key\n",
    "sp=spotipy.Spotify(auth_manager=SpotifyClientCredentials(client_id=client_id,client_secret=client_secret))"
   ]
  },
  {
   "cell_type": "markdown",
   "id": "ed56a6bb",
   "metadata": {},
   "source": [
    "#### Choosing a playlist"
   ]
  },
  {
   "cell_type": "code",
   "execution_count": 27,
   "id": "ec6757e8",
   "metadata": {},
   "outputs": [],
   "source": [
    "playlist=sp.user_playlist_tracks(\"SunSubiroRecords\",\"3xMQTDLOIGvj3lWH5e5x6F\")\n",
    "\n"
   ]
  },
  {
   "cell_type": "code",
   "execution_count": 28,
   "id": "6de3df49",
   "metadata": {},
   "outputs": [
    {
     "data": {
      "text/plain": [
       "dict_keys(['href', 'items', 'limit', 'next', 'offset', 'previous', 'total'])"
      ]
     },
     "execution_count": 28,
     "metadata": {},
     "output_type": "execute_result"
    }
   ],
   "source": [
    "playlist.keys()"
   ]
  },
  {
   "cell_type": "code",
   "execution_count": 34,
   "id": "44d57cb6",
   "metadata": {},
   "outputs": [
    {
     "data": {
      "text/plain": [
       "dict_keys(['added_at', 'added_by', 'is_local', 'primary_color', 'track', 'video_thumbnail'])"
      ]
     },
     "execution_count": 34,
     "metadata": {},
     "output_type": "execute_result"
    }
   ],
   "source": [
    "playlist[\"items\"][2].keys()"
   ]
  },
  {
   "cell_type": "code",
   "execution_count": 31,
   "id": "2597aaa3",
   "metadata": {},
   "outputs": [
    {
     "data": {
      "text/plain": [
       "dict_keys(['album', 'artists', 'available_markets', 'disc_number', 'duration_ms', 'episode', 'explicit', 'external_ids', 'external_urls', 'href', 'id', 'is_local', 'name', 'popularity', 'preview_url', 'track', 'track_number', 'type', 'uri'])"
      ]
     },
     "execution_count": 31,
     "metadata": {},
     "output_type": "execute_result"
    }
   ],
   "source": [
    "playlist[\"items\"][2]['track'].keys()"
   ]
  },
  {
   "cell_type": "code",
   "execution_count": 49,
   "id": "7277db5e",
   "metadata": {},
   "outputs": [],
   "source": [
    "def get_playlist_tracks(user_id,playlist_id):\n",
    "    results=sp.user_playlist_tracks(user_id,playlist_id)\n",
    "    tracks=results[\"items\"]\n",
    "    while results['next']:\n",
    "        results = sp.next(results)\n",
    "        tracks.extend(results['items'])\n",
    "    return tracks"
   ]
  },
  {
   "cell_type": "code",
   "execution_count": 36,
   "id": "8d6af409",
   "metadata": {},
   "outputs": [],
   "source": [
    "results2=get_playlist_tracks(\"SunSubiroRecords\",\"3xMQTDLOIGvj3lWH5e5x6F\")"
   ]
  },
  {
   "cell_type": "code",
   "execution_count": 37,
   "id": "072240bf",
   "metadata": {},
   "outputs": [
    {
     "data": {
      "text/plain": [
       "689"
      ]
     },
     "execution_count": 37,
     "metadata": {},
     "output_type": "execute_result"
    }
   ],
   "source": [
    "len(results2)"
   ]
  },
  {
   "cell_type": "code",
   "execution_count": 39,
   "id": "0b6ef24e",
   "metadata": {},
   "outputs": [
    {
     "data": {
      "text/plain": [
       "dict_keys(['album', 'artists', 'available_markets', 'disc_number', 'duration_ms', 'episode', 'explicit', 'external_ids', 'external_urls', 'href', 'id', 'is_local', 'name', 'popularity', 'preview_url', 'track', 'track_number', 'type', 'uri'])"
      ]
     },
     "execution_count": 39,
     "metadata": {},
     "output_type": "execute_result"
    }
   ],
   "source": [
    "results2[0]['track'].keys()"
   ]
  },
  {
   "cell_type": "code",
   "execution_count": 40,
   "id": "fb837f3c",
   "metadata": {},
   "outputs": [
    {
     "data": {
      "text/plain": [
       "['spotify:track', '5PjdY0CKGZdEuoNab3yDmX']"
      ]
     },
     "execution_count": 40,
     "metadata": {},
     "output_type": "execute_result"
    }
   ],
   "source": [
    "results2[0]['track'][\"uri\"].rsplit(':',1)"
   ]
  },
  {
   "cell_type": "code",
   "execution_count": 41,
   "id": "1ddcf537",
   "metadata": {},
   "outputs": [
    {
     "data": {
      "text/plain": [
       "dict_keys(['external_urls', 'href', 'id', 'name', 'type', 'uri'])"
      ]
     },
     "execution_count": 41,
     "metadata": {},
     "output_type": "execute_result"
    }
   ],
   "source": [
    "results2[0]['track'][\"artists\"][0].keys()"
   ]
  },
  {
   "cell_type": "code",
   "execution_count": 42,
   "id": "f95f173d",
   "metadata": {},
   "outputs": [],
   "source": [
    "song_name=[]\n",
    "song_URI=[]\n",
    "song_ID=[]\n",
    "song_artist=[]\n",
    "playlist=results2"
   ]
  },
  {
   "cell_type": "code",
   "execution_count": 43,
   "id": "03b87783",
   "metadata": {},
   "outputs": [],
   "source": [
    "for r in results2:\n",
    "    song_URI.append(r['track']['uri'])"
   ]
  },
  {
   "cell_type": "code",
   "execution_count": 44,
   "id": "2fcd5f18",
   "metadata": {},
   "outputs": [],
   "source": [
    "for r in results2:\n",
    "    song_ID.append(r['track']['id'])"
   ]
  },
  {
   "cell_type": "code",
   "execution_count": 45,
   "id": "b802ae2c",
   "metadata": {},
   "outputs": [],
   "source": [
    "for r in results2:\n",
    "    song_name.append(r['track']['name'])"
   ]
  },
  {
   "cell_type": "code",
   "execution_count": 47,
   "id": "d9201f5d",
   "metadata": {},
   "outputs": [],
   "source": [
    "for r in results2: \n",
    "    song_artist.append(r['track']['artists'][0]['name'])"
   ]
  },
  {
   "cell_type": "code",
   "execution_count": 52,
   "id": "935846d2",
   "metadata": {},
   "outputs": [],
   "source": [
    "import pandas as pd\n",
    "playlist_song_info=pd.DataFrame({\"song_name\":song_name,\"song_ID\":song_ID,\"song_artist\":song_artist})"
   ]
  },
  {
   "cell_type": "code",
   "execution_count": 53,
   "id": "a93b6b95",
   "metadata": {},
   "outputs": [
    {
     "data": {
      "text/html": [
       "<div>\n",
       "<style scoped>\n",
       "    .dataframe tbody tr th:only-of-type {\n",
       "        vertical-align: middle;\n",
       "    }\n",
       "\n",
       "    .dataframe tbody tr th {\n",
       "        vertical-align: top;\n",
       "    }\n",
       "\n",
       "    .dataframe thead th {\n",
       "        text-align: right;\n",
       "    }\n",
       "</style>\n",
       "<table border=\"1\" class=\"dataframe\">\n",
       "  <thead>\n",
       "    <tr style=\"text-align: right;\">\n",
       "      <th></th>\n",
       "      <th>song_name</th>\n",
       "      <th>song_ID</th>\n",
       "      <th>song_artist</th>\n",
       "    </tr>\n",
       "  </thead>\n",
       "  <tbody>\n",
       "    <tr>\n",
       "      <th>0</th>\n",
       "      <td>STAY (with Justin Bieber)</td>\n",
       "      <td>5PjdY0CKGZdEuoNab3yDmX</td>\n",
       "      <td>The Kid LAROI</td>\n",
       "    </tr>\n",
       "    <tr>\n",
       "      <th>1</th>\n",
       "      <td>Easy On Me</td>\n",
       "      <td>0gplL1WMoJ6iYaPgMCL0gX</td>\n",
       "      <td>Adele</td>\n",
       "    </tr>\n",
       "    <tr>\n",
       "      <th>2</th>\n",
       "      <td>INDUSTRY BABY (feat. Jack Harlow)</td>\n",
       "      <td>5Z9KJZvQzH6PFmb8SNkxuk</td>\n",
       "      <td>Lil Nas X</td>\n",
       "    </tr>\n",
       "    <tr>\n",
       "      <th>3</th>\n",
       "      <td>More Than You Know</td>\n",
       "      <td>2yaZGI4MWkdCGmkTWYHW6u</td>\n",
       "      <td>Filip Nordin</td>\n",
       "    </tr>\n",
       "    <tr>\n",
       "      <th>4</th>\n",
       "      <td>abcdefu</td>\n",
       "      <td>4fouWK6XVHhzl78KzQ1UjL</td>\n",
       "      <td>GAYLE</td>\n",
       "    </tr>\n",
       "    <tr>\n",
       "      <th>...</th>\n",
       "      <td>...</td>\n",
       "      <td>...</td>\n",
       "      <td>...</td>\n",
       "    </tr>\n",
       "    <tr>\n",
       "      <th>684</th>\n",
       "      <td>Sweet Child O' Mine</td>\n",
       "      <td>4oWy1Rx027Xj55EdK9qCgM</td>\n",
       "      <td>Covers Culture</td>\n",
       "    </tr>\n",
       "    <tr>\n",
       "      <th>685</th>\n",
       "      <td>Canada</td>\n",
       "      <td>0NiZ9lc9y6CZqaFYwsUL9c</td>\n",
       "      <td>Bobbylene</td>\n",
       "    </tr>\n",
       "    <tr>\n",
       "      <th>686</th>\n",
       "      <td>Maybe It's Time</td>\n",
       "      <td>5gQu2dp4DIcgEDWnrZblrN</td>\n",
       "      <td>Bobbylene</td>\n",
       "    </tr>\n",
       "    <tr>\n",
       "      <th>687</th>\n",
       "      <td>Ivy</td>\n",
       "      <td>1cfLUa6FPK2Oie3W6Sa7rb</td>\n",
       "      <td>Bobbylene</td>\n",
       "    </tr>\n",
       "    <tr>\n",
       "      <th>688</th>\n",
       "      <td>Even My Dad Does Sometimes</td>\n",
       "      <td>36MFynrTkbmCObSMmxz2Pf</td>\n",
       "      <td>Bobbylene</td>\n",
       "    </tr>\n",
       "  </tbody>\n",
       "</table>\n",
       "<p>689 rows × 3 columns</p>\n",
       "</div>"
      ],
      "text/plain": [
       "                             song_name                 song_ID     song_artist\n",
       "0            STAY (with Justin Bieber)  5PjdY0CKGZdEuoNab3yDmX   The Kid LAROI\n",
       "1                           Easy On Me  0gplL1WMoJ6iYaPgMCL0gX           Adele\n",
       "2    INDUSTRY BABY (feat. Jack Harlow)  5Z9KJZvQzH6PFmb8SNkxuk       Lil Nas X\n",
       "3                   More Than You Know  2yaZGI4MWkdCGmkTWYHW6u    Filip Nordin\n",
       "4                              abcdefu  4fouWK6XVHhzl78KzQ1UjL           GAYLE\n",
       "..                                 ...                     ...             ...\n",
       "684                Sweet Child O' Mine  4oWy1Rx027Xj55EdK9qCgM  Covers Culture\n",
       "685                             Canada  0NiZ9lc9y6CZqaFYwsUL9c       Bobbylene\n",
       "686                    Maybe It's Time  5gQu2dp4DIcgEDWnrZblrN       Bobbylene\n",
       "687                                Ivy  1cfLUa6FPK2Oie3W6Sa7rb       Bobbylene\n",
       "688         Even My Dad Does Sometimes  36MFynrTkbmCObSMmxz2Pf       Bobbylene\n",
       "\n",
       "[689 rows x 3 columns]"
      ]
     },
     "execution_count": 53,
     "metadata": {},
     "output_type": "execute_result"
    }
   ],
   "source": [
    "playlist_song_info"
   ]
  },
  {
   "cell_type": "code",
   "execution_count": 57,
   "id": "e1a34de5",
   "metadata": {},
   "outputs": [],
   "source": [
    "feats = sp.audio_features(tracks=song_ID[0:99])"
   ]
  },
  {
   "cell_type": "code",
   "execution_count": null,
   "id": "12c83435",
   "metadata": {},
   "outputs": [],
   "source": []
  },
  {
   "cell_type": "code",
   "execution_count": 83,
   "id": "4f9b66df",
   "metadata": {},
   "outputs": [
    {
     "ename": "TypeError",
     "evalue": "'int' object is not subscriptable",
     "output_type": "error",
     "traceback": [
      "\u001b[1;31m---------------------------------------------------------------------------\u001b[0m",
      "\u001b[1;31mTypeError\u001b[0m                                 Traceback (most recent call last)",
      "\u001b[1;32m<ipython-input-83-5ad2ee945f3f>\u001b[0m in \u001b[0;36m<module>\u001b[1;34m\u001b[0m\n\u001b[1;32m----> 1\u001b[1;33m \u001b[0maudio_feat_df\u001b[0m\u001b[1;33m=\u001b[0m\u001b[0mpd\u001b[0m\u001b[1;33m.\u001b[0m\u001b[0mDataFrame\u001b[0m\u001b[1;33m(\u001b[0m\u001b[0msp\u001b[0m\u001b[1;33m.\u001b[0m\u001b[0maudio_features\u001b[0m\u001b[1;33m(\u001b[0m\u001b[0mtracks\u001b[0m\u001b[1;33m=\u001b[0m\u001b[0msong_ID\u001b[0m\u001b[1;33m[\u001b[0m\u001b[1;36m0\u001b[0m\u001b[1;33m:\u001b[0m\u001b[1;36m99\u001b[0m\u001b[1;33m]\u001b[0m\u001b[1;33m)\u001b[0m\u001b[1;33m)\u001b[0m\u001b[1;33m\u001b[0m\u001b[1;33m\u001b[0m\u001b[0m\n\u001b[0m",
      "\u001b[1;31mTypeError\u001b[0m: 'int' object is not subscriptable"
     ]
    }
   ],
   "source": [
    "audio_feat_df=pd.DataFrame(sp.audio_features(tracks=song_ID[0:99]))\n"
   ]
  },
  {
   "cell_type": "code",
   "execution_count": 69,
   "id": "fa4d1e10",
   "metadata": {},
   "outputs": [
    {
     "data": {
      "application/vnd.jupyter.widget-view+json": {
       "model_id": "ef51c6ff92ea4a01aa507f38bb85ffe1",
       "version_major": 2,
       "version_minor": 0
      },
      "text/plain": [
       "  0%|          | 0/689 [00:00<?, ?it/s]"
      ]
     },
     "metadata": {},
     "output_type": "display_data"
    }
   ],
   "source": [
    "audio_features = []\n",
    "for song_ID in tqdm(range(len(playlist_song_info))):\n",
    "    audio_features.extend(sp.audio_features(tracks=playlist_song_info['song_ID'][song_ID]))"
   ]
  },
  {
   "cell_type": "code",
   "execution_count": 82,
   "id": "479bea59",
   "metadata": {},
   "outputs": [],
   "source": [
    "audio_features_df = pd.DataFrame(audio_features) \n"
   ]
  },
  {
   "cell_type": "code",
   "execution_count": 80,
   "id": "f8e9dc2e",
   "metadata": {},
   "outputs": [],
   "source": [
    "names_audio_features_df = pd.merge(playlist_song_info, audio_features_df, left_on='song_ID',right_on='id', how='inner')"
   ]
  },
  {
   "cell_type": "markdown",
   "id": "e4dacb06",
   "metadata": {},
   "source": [
    "### Final Merged Data Frame"
   ]
  },
  {
   "cell_type": "code",
   "execution_count": 81,
   "id": "1fecca25",
   "metadata": {},
   "outputs": [
    {
     "data": {
      "text/html": [
       "<div>\n",
       "<style scoped>\n",
       "    .dataframe tbody tr th:only-of-type {\n",
       "        vertical-align: middle;\n",
       "    }\n",
       "\n",
       "    .dataframe tbody tr th {\n",
       "        vertical-align: top;\n",
       "    }\n",
       "\n",
       "    .dataframe thead th {\n",
       "        text-align: right;\n",
       "    }\n",
       "</style>\n",
       "<table border=\"1\" class=\"dataframe\">\n",
       "  <thead>\n",
       "    <tr style=\"text-align: right;\">\n",
       "      <th></th>\n",
       "      <th>song_name</th>\n",
       "      <th>song_ID</th>\n",
       "      <th>song_artist</th>\n",
       "      <th>danceability</th>\n",
       "      <th>energy</th>\n",
       "      <th>key</th>\n",
       "      <th>loudness</th>\n",
       "      <th>mode</th>\n",
       "      <th>speechiness</th>\n",
       "      <th>acousticness</th>\n",
       "      <th>...</th>\n",
       "      <th>liveness</th>\n",
       "      <th>valence</th>\n",
       "      <th>tempo</th>\n",
       "      <th>type</th>\n",
       "      <th>id</th>\n",
       "      <th>uri</th>\n",
       "      <th>track_href</th>\n",
       "      <th>analysis_url</th>\n",
       "      <th>duration_ms</th>\n",
       "      <th>time_signature</th>\n",
       "    </tr>\n",
       "  </thead>\n",
       "  <tbody>\n",
       "    <tr>\n",
       "      <th>0</th>\n",
       "      <td>STAY (with Justin Bieber)</td>\n",
       "      <td>5PjdY0CKGZdEuoNab3yDmX</td>\n",
       "      <td>The Kid LAROI</td>\n",
       "      <td>0.591</td>\n",
       "      <td>0.7640</td>\n",
       "      <td>1</td>\n",
       "      <td>-5.484</td>\n",
       "      <td>1</td>\n",
       "      <td>0.0483</td>\n",
       "      <td>0.0383</td>\n",
       "      <td>...</td>\n",
       "      <td>0.1030</td>\n",
       "      <td>0.478</td>\n",
       "      <td>169.928</td>\n",
       "      <td>audio_features</td>\n",
       "      <td>5PjdY0CKGZdEuoNab3yDmX</td>\n",
       "      <td>spotify:track:5PjdY0CKGZdEuoNab3yDmX</td>\n",
       "      <td>https://api.spotify.com/v1/tracks/5PjdY0CKGZdE...</td>\n",
       "      <td>https://api.spotify.com/v1/audio-analysis/5Pjd...</td>\n",
       "      <td>141806</td>\n",
       "      <td>4</td>\n",
       "    </tr>\n",
       "    <tr>\n",
       "      <th>1</th>\n",
       "      <td>Easy On Me</td>\n",
       "      <td>0gplL1WMoJ6iYaPgMCL0gX</td>\n",
       "      <td>Adele</td>\n",
       "      <td>0.604</td>\n",
       "      <td>0.3660</td>\n",
       "      <td>5</td>\n",
       "      <td>-7.519</td>\n",
       "      <td>1</td>\n",
       "      <td>0.0282</td>\n",
       "      <td>0.5780</td>\n",
       "      <td>...</td>\n",
       "      <td>0.1330</td>\n",
       "      <td>0.130</td>\n",
       "      <td>141.981</td>\n",
       "      <td>audio_features</td>\n",
       "      <td>0gplL1WMoJ6iYaPgMCL0gX</td>\n",
       "      <td>spotify:track:0gplL1WMoJ6iYaPgMCL0gX</td>\n",
       "      <td>https://api.spotify.com/v1/tracks/0gplL1WMoJ6i...</td>\n",
       "      <td>https://api.spotify.com/v1/audio-analysis/0gpl...</td>\n",
       "      <td>224695</td>\n",
       "      <td>4</td>\n",
       "    </tr>\n",
       "    <tr>\n",
       "      <th>2</th>\n",
       "      <td>INDUSTRY BABY (feat. Jack Harlow)</td>\n",
       "      <td>5Z9KJZvQzH6PFmb8SNkxuk</td>\n",
       "      <td>Lil Nas X</td>\n",
       "      <td>0.741</td>\n",
       "      <td>0.6910</td>\n",
       "      <td>10</td>\n",
       "      <td>-7.395</td>\n",
       "      <td>0</td>\n",
       "      <td>0.0672</td>\n",
       "      <td>0.0221</td>\n",
       "      <td>...</td>\n",
       "      <td>0.0476</td>\n",
       "      <td>0.892</td>\n",
       "      <td>150.087</td>\n",
       "      <td>audio_features</td>\n",
       "      <td>5Z9KJZvQzH6PFmb8SNkxuk</td>\n",
       "      <td>spotify:track:5Z9KJZvQzH6PFmb8SNkxuk</td>\n",
       "      <td>https://api.spotify.com/v1/tracks/5Z9KJZvQzH6P...</td>\n",
       "      <td>https://api.spotify.com/v1/audio-analysis/5Z9K...</td>\n",
       "      <td>212353</td>\n",
       "      <td>4</td>\n",
       "    </tr>\n",
       "    <tr>\n",
       "      <th>3</th>\n",
       "      <td>More Than You Know</td>\n",
       "      <td>2yaZGI4MWkdCGmkTWYHW6u</td>\n",
       "      <td>Filip Nordin</td>\n",
       "      <td>0.775</td>\n",
       "      <td>0.3170</td>\n",
       "      <td>8</td>\n",
       "      <td>-7.527</td>\n",
       "      <td>1</td>\n",
       "      <td>0.0314</td>\n",
       "      <td>0.7890</td>\n",
       "      <td>...</td>\n",
       "      <td>0.2080</td>\n",
       "      <td>0.509</td>\n",
       "      <td>98.017</td>\n",
       "      <td>audio_features</td>\n",
       "      <td>2yaZGI4MWkdCGmkTWYHW6u</td>\n",
       "      <td>spotify:track:2yaZGI4MWkdCGmkTWYHW6u</td>\n",
       "      <td>https://api.spotify.com/v1/tracks/2yaZGI4MWkdC...</td>\n",
       "      <td>https://api.spotify.com/v1/audio-analysis/2yaZ...</td>\n",
       "      <td>155510</td>\n",
       "      <td>4</td>\n",
       "    </tr>\n",
       "    <tr>\n",
       "      <th>4</th>\n",
       "      <td>abcdefu</td>\n",
       "      <td>4fouWK6XVHhzl78KzQ1UjL</td>\n",
       "      <td>GAYLE</td>\n",
       "      <td>0.695</td>\n",
       "      <td>0.5400</td>\n",
       "      <td>4</td>\n",
       "      <td>-5.692</td>\n",
       "      <td>1</td>\n",
       "      <td>0.0493</td>\n",
       "      <td>0.2990</td>\n",
       "      <td>...</td>\n",
       "      <td>0.3670</td>\n",
       "      <td>0.415</td>\n",
       "      <td>121.932</td>\n",
       "      <td>audio_features</td>\n",
       "      <td>4fouWK6XVHhzl78KzQ1UjL</td>\n",
       "      <td>spotify:track:4fouWK6XVHhzl78KzQ1UjL</td>\n",
       "      <td>https://api.spotify.com/v1/tracks/4fouWK6XVHhz...</td>\n",
       "      <td>https://api.spotify.com/v1/audio-analysis/4fou...</td>\n",
       "      <td>168602</td>\n",
       "      <td>4</td>\n",
       "    </tr>\n",
       "    <tr>\n",
       "      <th>...</th>\n",
       "      <td>...</td>\n",
       "      <td>...</td>\n",
       "      <td>...</td>\n",
       "      <td>...</td>\n",
       "      <td>...</td>\n",
       "      <td>...</td>\n",
       "      <td>...</td>\n",
       "      <td>...</td>\n",
       "      <td>...</td>\n",
       "      <td>...</td>\n",
       "      <td>...</td>\n",
       "      <td>...</td>\n",
       "      <td>...</td>\n",
       "      <td>...</td>\n",
       "      <td>...</td>\n",
       "      <td>...</td>\n",
       "      <td>...</td>\n",
       "      <td>...</td>\n",
       "      <td>...</td>\n",
       "      <td>...</td>\n",
       "      <td>...</td>\n",
       "    </tr>\n",
       "    <tr>\n",
       "      <th>684</th>\n",
       "      <td>Sweet Child O' Mine</td>\n",
       "      <td>4oWy1Rx027Xj55EdK9qCgM</td>\n",
       "      <td>Covers Culture</td>\n",
       "      <td>0.747</td>\n",
       "      <td>0.2400</td>\n",
       "      <td>6</td>\n",
       "      <td>-12.393</td>\n",
       "      <td>1</td>\n",
       "      <td>0.0407</td>\n",
       "      <td>0.9190</td>\n",
       "      <td>...</td>\n",
       "      <td>0.1250</td>\n",
       "      <td>0.399</td>\n",
       "      <td>115.965</td>\n",
       "      <td>audio_features</td>\n",
       "      <td>4oWy1Rx027Xj55EdK9qCgM</td>\n",
       "      <td>spotify:track:4oWy1Rx027Xj55EdK9qCgM</td>\n",
       "      <td>https://api.spotify.com/v1/tracks/4oWy1Rx027Xj...</td>\n",
       "      <td>https://api.spotify.com/v1/audio-analysis/4oWy...</td>\n",
       "      <td>132425</td>\n",
       "      <td>4</td>\n",
       "    </tr>\n",
       "    <tr>\n",
       "      <th>685</th>\n",
       "      <td>Canada</td>\n",
       "      <td>0NiZ9lc9y6CZqaFYwsUL9c</td>\n",
       "      <td>Bobbylene</td>\n",
       "      <td>0.608</td>\n",
       "      <td>0.1500</td>\n",
       "      <td>11</td>\n",
       "      <td>-12.729</td>\n",
       "      <td>1</td>\n",
       "      <td>0.0321</td>\n",
       "      <td>0.8630</td>\n",
       "      <td>...</td>\n",
       "      <td>0.1240</td>\n",
       "      <td>0.434</td>\n",
       "      <td>81.988</td>\n",
       "      <td>audio_features</td>\n",
       "      <td>0NiZ9lc9y6CZqaFYwsUL9c</td>\n",
       "      <td>spotify:track:0NiZ9lc9y6CZqaFYwsUL9c</td>\n",
       "      <td>https://api.spotify.com/v1/tracks/0NiZ9lc9y6CZ...</td>\n",
       "      <td>https://api.spotify.com/v1/audio-analysis/0NiZ...</td>\n",
       "      <td>126951</td>\n",
       "      <td>4</td>\n",
       "    </tr>\n",
       "    <tr>\n",
       "      <th>686</th>\n",
       "      <td>Maybe It's Time</td>\n",
       "      <td>5gQu2dp4DIcgEDWnrZblrN</td>\n",
       "      <td>Bobbylene</td>\n",
       "      <td>0.505</td>\n",
       "      <td>0.0974</td>\n",
       "      <td>7</td>\n",
       "      <td>-14.228</td>\n",
       "      <td>1</td>\n",
       "      <td>0.0331</td>\n",
       "      <td>0.8860</td>\n",
       "      <td>...</td>\n",
       "      <td>0.1180</td>\n",
       "      <td>0.345</td>\n",
       "      <td>151.449</td>\n",
       "      <td>audio_features</td>\n",
       "      <td>5gQu2dp4DIcgEDWnrZblrN</td>\n",
       "      <td>spotify:track:5gQu2dp4DIcgEDWnrZblrN</td>\n",
       "      <td>https://api.spotify.com/v1/tracks/5gQu2dp4DIcg...</td>\n",
       "      <td>https://api.spotify.com/v1/audio-analysis/5gQu...</td>\n",
       "      <td>142105</td>\n",
       "      <td>4</td>\n",
       "    </tr>\n",
       "    <tr>\n",
       "      <th>687</th>\n",
       "      <td>Ivy</td>\n",
       "      <td>1cfLUa6FPK2Oie3W6Sa7rb</td>\n",
       "      <td>Bobbylene</td>\n",
       "      <td>0.579</td>\n",
       "      <td>0.1620</td>\n",
       "      <td>9</td>\n",
       "      <td>-11.063</td>\n",
       "      <td>1</td>\n",
       "      <td>0.0577</td>\n",
       "      <td>0.9080</td>\n",
       "      <td>...</td>\n",
       "      <td>0.1950</td>\n",
       "      <td>0.615</td>\n",
       "      <td>159.858</td>\n",
       "      <td>audio_features</td>\n",
       "      <td>1cfLUa6FPK2Oie3W6Sa7rb</td>\n",
       "      <td>spotify:track:1cfLUa6FPK2Oie3W6Sa7rb</td>\n",
       "      <td>https://api.spotify.com/v1/tracks/1cfLUa6FPK2O...</td>\n",
       "      <td>https://api.spotify.com/v1/audio-analysis/1cfL...</td>\n",
       "      <td>130312</td>\n",
       "      <td>4</td>\n",
       "    </tr>\n",
       "    <tr>\n",
       "      <th>688</th>\n",
       "      <td>Even My Dad Does Sometimes</td>\n",
       "      <td>36MFynrTkbmCObSMmxz2Pf</td>\n",
       "      <td>Bobbylene</td>\n",
       "      <td>0.651</td>\n",
       "      <td>0.1280</td>\n",
       "      <td>0</td>\n",
       "      <td>-12.543</td>\n",
       "      <td>1</td>\n",
       "      <td>0.0398</td>\n",
       "      <td>0.9050</td>\n",
       "      <td>...</td>\n",
       "      <td>0.1060</td>\n",
       "      <td>0.393</td>\n",
       "      <td>119.301</td>\n",
       "      <td>audio_features</td>\n",
       "      <td>36MFynrTkbmCObSMmxz2Pf</td>\n",
       "      <td>spotify:track:36MFynrTkbmCObSMmxz2Pf</td>\n",
       "      <td>https://api.spotify.com/v1/tracks/36MFynrTkbmC...</td>\n",
       "      <td>https://api.spotify.com/v1/audio-analysis/36MF...</td>\n",
       "      <td>165187</td>\n",
       "      <td>3</td>\n",
       "    </tr>\n",
       "  </tbody>\n",
       "</table>\n",
       "<p>689 rows × 21 columns</p>\n",
       "</div>"
      ],
      "text/plain": [
       "                             song_name                 song_ID  \\\n",
       "0            STAY (with Justin Bieber)  5PjdY0CKGZdEuoNab3yDmX   \n",
       "1                           Easy On Me  0gplL1WMoJ6iYaPgMCL0gX   \n",
       "2    INDUSTRY BABY (feat. Jack Harlow)  5Z9KJZvQzH6PFmb8SNkxuk   \n",
       "3                   More Than You Know  2yaZGI4MWkdCGmkTWYHW6u   \n",
       "4                              abcdefu  4fouWK6XVHhzl78KzQ1UjL   \n",
       "..                                 ...                     ...   \n",
       "684                Sweet Child O' Mine  4oWy1Rx027Xj55EdK9qCgM   \n",
       "685                             Canada  0NiZ9lc9y6CZqaFYwsUL9c   \n",
       "686                    Maybe It's Time  5gQu2dp4DIcgEDWnrZblrN   \n",
       "687                                Ivy  1cfLUa6FPK2Oie3W6Sa7rb   \n",
       "688         Even My Dad Does Sometimes  36MFynrTkbmCObSMmxz2Pf   \n",
       "\n",
       "        song_artist  danceability  energy  key  loudness  mode  speechiness  \\\n",
       "0     The Kid LAROI         0.591  0.7640    1    -5.484     1       0.0483   \n",
       "1             Adele         0.604  0.3660    5    -7.519     1       0.0282   \n",
       "2         Lil Nas X         0.741  0.6910   10    -7.395     0       0.0672   \n",
       "3      Filip Nordin         0.775  0.3170    8    -7.527     1       0.0314   \n",
       "4             GAYLE         0.695  0.5400    4    -5.692     1       0.0493   \n",
       "..              ...           ...     ...  ...       ...   ...          ...   \n",
       "684  Covers Culture         0.747  0.2400    6   -12.393     1       0.0407   \n",
       "685       Bobbylene         0.608  0.1500   11   -12.729     1       0.0321   \n",
       "686       Bobbylene         0.505  0.0974    7   -14.228     1       0.0331   \n",
       "687       Bobbylene         0.579  0.1620    9   -11.063     1       0.0577   \n",
       "688       Bobbylene         0.651  0.1280    0   -12.543     1       0.0398   \n",
       "\n",
       "     acousticness  ...  liveness  valence    tempo            type  \\\n",
       "0          0.0383  ...    0.1030    0.478  169.928  audio_features   \n",
       "1          0.5780  ...    0.1330    0.130  141.981  audio_features   \n",
       "2          0.0221  ...    0.0476    0.892  150.087  audio_features   \n",
       "3          0.7890  ...    0.2080    0.509   98.017  audio_features   \n",
       "4          0.2990  ...    0.3670    0.415  121.932  audio_features   \n",
       "..            ...  ...       ...      ...      ...             ...   \n",
       "684        0.9190  ...    0.1250    0.399  115.965  audio_features   \n",
       "685        0.8630  ...    0.1240    0.434   81.988  audio_features   \n",
       "686        0.8860  ...    0.1180    0.345  151.449  audio_features   \n",
       "687        0.9080  ...    0.1950    0.615  159.858  audio_features   \n",
       "688        0.9050  ...    0.1060    0.393  119.301  audio_features   \n",
       "\n",
       "                         id                                   uri  \\\n",
       "0    5PjdY0CKGZdEuoNab3yDmX  spotify:track:5PjdY0CKGZdEuoNab3yDmX   \n",
       "1    0gplL1WMoJ6iYaPgMCL0gX  spotify:track:0gplL1WMoJ6iYaPgMCL0gX   \n",
       "2    5Z9KJZvQzH6PFmb8SNkxuk  spotify:track:5Z9KJZvQzH6PFmb8SNkxuk   \n",
       "3    2yaZGI4MWkdCGmkTWYHW6u  spotify:track:2yaZGI4MWkdCGmkTWYHW6u   \n",
       "4    4fouWK6XVHhzl78KzQ1UjL  spotify:track:4fouWK6XVHhzl78KzQ1UjL   \n",
       "..                      ...                                   ...   \n",
       "684  4oWy1Rx027Xj55EdK9qCgM  spotify:track:4oWy1Rx027Xj55EdK9qCgM   \n",
       "685  0NiZ9lc9y6CZqaFYwsUL9c  spotify:track:0NiZ9lc9y6CZqaFYwsUL9c   \n",
       "686  5gQu2dp4DIcgEDWnrZblrN  spotify:track:5gQu2dp4DIcgEDWnrZblrN   \n",
       "687  1cfLUa6FPK2Oie3W6Sa7rb  spotify:track:1cfLUa6FPK2Oie3W6Sa7rb   \n",
       "688  36MFynrTkbmCObSMmxz2Pf  spotify:track:36MFynrTkbmCObSMmxz2Pf   \n",
       "\n",
       "                                            track_href  \\\n",
       "0    https://api.spotify.com/v1/tracks/5PjdY0CKGZdE...   \n",
       "1    https://api.spotify.com/v1/tracks/0gplL1WMoJ6i...   \n",
       "2    https://api.spotify.com/v1/tracks/5Z9KJZvQzH6P...   \n",
       "3    https://api.spotify.com/v1/tracks/2yaZGI4MWkdC...   \n",
       "4    https://api.spotify.com/v1/tracks/4fouWK6XVHhz...   \n",
       "..                                                 ...   \n",
       "684  https://api.spotify.com/v1/tracks/4oWy1Rx027Xj...   \n",
       "685  https://api.spotify.com/v1/tracks/0NiZ9lc9y6CZ...   \n",
       "686  https://api.spotify.com/v1/tracks/5gQu2dp4DIcg...   \n",
       "687  https://api.spotify.com/v1/tracks/1cfLUa6FPK2O...   \n",
       "688  https://api.spotify.com/v1/tracks/36MFynrTkbmC...   \n",
       "\n",
       "                                          analysis_url duration_ms  \\\n",
       "0    https://api.spotify.com/v1/audio-analysis/5Pjd...      141806   \n",
       "1    https://api.spotify.com/v1/audio-analysis/0gpl...      224695   \n",
       "2    https://api.spotify.com/v1/audio-analysis/5Z9K...      212353   \n",
       "3    https://api.spotify.com/v1/audio-analysis/2yaZ...      155510   \n",
       "4    https://api.spotify.com/v1/audio-analysis/4fou...      168602   \n",
       "..                                                 ...         ...   \n",
       "684  https://api.spotify.com/v1/audio-analysis/4oWy...      132425   \n",
       "685  https://api.spotify.com/v1/audio-analysis/0NiZ...      126951   \n",
       "686  https://api.spotify.com/v1/audio-analysis/5gQu...      142105   \n",
       "687  https://api.spotify.com/v1/audio-analysis/1cfL...      130312   \n",
       "688  https://api.spotify.com/v1/audio-analysis/36MF...      165187   \n",
       "\n",
       "     time_signature  \n",
       "0                 4  \n",
       "1                 4  \n",
       "2                 4  \n",
       "3                 4  \n",
       "4                 4  \n",
       "..              ...  \n",
       "684               4  \n",
       "685               4  \n",
       "686               4  \n",
       "687               4  \n",
       "688               3  \n",
       "\n",
       "[689 rows x 21 columns]"
      ]
     },
     "execution_count": 81,
     "metadata": {},
     "output_type": "execute_result"
    }
   ],
   "source": [
    "names_audio_features_df"
   ]
  },
  {
   "cell_type": "code",
   "execution_count": null,
   "id": "1d667903",
   "metadata": {},
   "outputs": [],
   "source": []
  },
  {
   "cell_type": "code",
   "execution_count": null,
   "id": "4fc75d87",
   "metadata": {},
   "outputs": [],
   "source": []
  },
  {
   "cell_type": "code",
   "execution_count": null,
   "id": "3d36c8a1",
   "metadata": {},
   "outputs": [],
   "source": []
  },
  {
   "cell_type": "code",
   "execution_count": null,
   "id": "29670196",
   "metadata": {},
   "outputs": [],
   "source": []
  },
  {
   "cell_type": "code",
   "execution_count": null,
   "id": "d4856ac6",
   "metadata": {},
   "outputs": [],
   "source": []
  }
 ],
 "metadata": {
  "kernelspec": {
   "display_name": "Python 3",
   "language": "python",
   "name": "python3"
  },
  "language_info": {
   "codemirror_mode": {
    "name": "ipython",
    "version": 3
   },
   "file_extension": ".py",
   "mimetype": "text/x-python",
   "name": "python",
   "nbconvert_exporter": "python",
   "pygments_lexer": "ipython3",
   "version": "3.8.8"
  }
 },
 "nbformat": 4,
 "nbformat_minor": 5
}
