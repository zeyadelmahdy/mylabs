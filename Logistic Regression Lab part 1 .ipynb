{
 "cells": [
  {
   "cell_type": "markdown",
   "id": "8736cbad",
   "metadata": {},
   "source": [
    "# Lab | Making predictions with logistic regression\n"
   ]
  },
  {
   "cell_type": "code",
   "execution_count": 16,
   "id": "8a76cf8a",
   "metadata": {},
   "outputs": [
    {
     "name": "stdout",
     "output_type": "stream",
     "text": [
      "········\n"
     ]
    }
   ],
   "source": [
    "import pymysql\n",
    "from sqlalchemy import create_engine\n",
    "import pandas as pd\n",
    "import getpass\n",
    "password=getpass.getpass()\n"
   ]
  },
  {
   "cell_type": "markdown",
   "id": "7cebc981",
   "metadata": {},
   "source": [
    "## Create a query or queries to extract the information you think may be relevant for building the prediction model. It should include some film features and some rental features.\n",
    " ## Read the data into a Pandas dataframe."
   ]
  },
  {
   "cell_type": "code",
   "execution_count": 17,
   "id": "aa87a2f1",
   "metadata": {},
   "outputs": [],
   "source": [
    "connection_string = 'mysql+pymysql://root:' + password + '@localhost/sakila'\n",
    "engine = create_engine(connection_string)"
   ]
  },
  {
   "cell_type": "code",
   "execution_count": 18,
   "id": "287c6225",
   "metadata": {},
   "outputs": [],
   "source": [
    "df = pd.read_sql_query('select * from historical_film_data', engine )"
   ]
  },
  {
   "cell_type": "code",
   "execution_count": 19,
   "id": "0653748b",
   "metadata": {},
   "outputs": [
    {
     "name": "stdout",
     "output_type": "stream",
     "text": [
      "<class 'pandas.core.frame.DataFrame'>\n",
      "RangeIndex: 16044 entries, 0 to 16043\n",
      "Data columns (total 7 columns):\n",
      " #   Column                     Non-Null Count  Dtype  \n",
      "---  ------                     --------------  -----  \n",
      " 0   title                      16044 non-null  object \n",
      " 1   Avg of Actual Days Rented  15861 non-null  float64\n",
      " 2   Date of Rental             16044 non-null  object \n",
      " 3   rental_duration            16044 non-null  int64  \n",
      " 4   AVG Rental Rate            16044 non-null  float64\n",
      " 5   Rent Frequency             16044 non-null  int64  \n",
      " 6   inventory_id               16044 non-null  int64  \n",
      "dtypes: float64(2), int64(3), object(2)\n",
      "memory usage: 877.5+ KB\n"
     ]
    }
   ],
   "source": [
    "df.info()"
   ]
  },
  {
   "cell_type": "markdown",
   "id": "5f6e546a",
   "metadata": {},
   "source": [
    "## Analyze extracted features and transform them. You may need to encode some categorical variables, or scale numerical variables."
   ]
  },
  {
   "cell_type": "code",
   "execution_count": 24,
   "id": "9280d43c",
   "metadata": {},
   "outputs": [],
   "source": [
    "df=df[df['Avg of Actual Days Rented'].isna()== False]"
   ]
  },
  {
   "cell_type": "code",
   "execution_count": 25,
   "id": "f2a220c9",
   "metadata": {},
   "outputs": [
    {
     "name": "stdout",
     "output_type": "stream",
     "text": [
      "<class 'pandas.core.frame.DataFrame'>\n",
      "Int64Index: 15861 entries, 0 to 16043\n",
      "Data columns (total 7 columns):\n",
      " #   Column                     Non-Null Count  Dtype  \n",
      "---  ------                     --------------  -----  \n",
      " 0   title                      15861 non-null  object \n",
      " 1   Avg of Actual Days Rented  15861 non-null  float64\n",
      " 2   Date of Rental             15861 non-null  object \n",
      " 3   rental_duration            15861 non-null  int64  \n",
      " 4   AVG Rental Rate            15861 non-null  float64\n",
      " 5   Rent Frequency             15861 non-null  int64  \n",
      " 6   inventory_id               15861 non-null  int64  \n",
      "dtypes: float64(2), int64(3), object(2)\n",
      "memory usage: 991.3+ KB\n"
     ]
    }
   ],
   "source": [
    "df.info()"
   ]
  },
  {
   "cell_type": "code",
   "execution_count": 35,
   "id": "f113e194",
   "metadata": {},
   "outputs": [],
   "source": [
    "corr_matrix = df.corr()"
   ]
  },
  {
   "cell_type": "code",
   "execution_count": 29,
   "id": "8c4a26d7",
   "metadata": {},
   "outputs": [],
   "source": [
    "import matplotlib.pyplot as plt\n",
    "import seaborn as sns"
   ]
  },
  {
   "cell_type": "code",
   "execution_count": 33,
   "id": "b3f49428",
   "metadata": {},
   "outputs": [],
   "source": [
    "df.drop(['Rent Frequency'], axis = 1, inplace = True)"
   ]
  },
  {
   "cell_type": "code",
   "execution_count": 36,
   "id": "65e03a31",
   "metadata": {},
   "outputs": [
    {
     "data": {
      "text/plain": [
       "<AxesSubplot:>"
      ]
     },
     "execution_count": 36,
     "metadata": {},
     "output_type": "execute_result"
    },
    {
     "data": {
      "image/png": "[encoded data removed]",
      "text/plain": [
       "<Figure size 720x720 with 2 Axes>"
      ]
     },
     "metadata": {
      "needs_background": "light"
     },
     "output_type": "display_data"
    }
   ],
   "source": [
    "fig, ax = plt.subplots(figsize=(10,10))\n",
    "sns.heatmap(corr_matrix,center=0,annot=True)"
   ]
  },
  {
   "cell_type": "code",
   "execution_count": 37,
   "id": "1552af08",
   "metadata": {},
   "outputs": [],
   "source": [
    "import numpy as np \n",
    "from sklearn.preprocessing import Normalizer\n",
    "\n",
    "X= df.select_dtypes(include = np.number)\n",
    "\n"
   ]
  },
  {
   "cell_type": "code",
   "execution_count": 38,
   "id": "b97056aa",
   "metadata": {},
   "outputs": [],
   "source": [
    "transformer = Normalizer ()\n",
    "transformer.fit(X)\n",
    "x_normalized = transformer.transform(X)"
   ]
  },
  {
   "cell_type": "code",
   "execution_count": 39,
   "id": "321ab777",
   "metadata": {},
   "outputs": [],
   "source": [
    "x = pd.DataFrame(x_normalized, columns = X.columns)"
   ]
  },
  {
   "cell_type": "code",
   "execution_count": 41,
   "id": "56bda529",
   "metadata": {},
   "outputs": [
    {
     "name": "stderr",
     "output_type": "stream",
     "text": [
      "<ipython-input-41-54c943bf1bcd>:1: DeprecationWarning: `np.object` is a deprecated alias for the builtin `object`. To silence this warning, use `object` by itself. Doing this will not modify any behavior and is safe. \n",
      "Deprecated in NumPy 1.20; for more details and guidance: https://numpy.org/devdocs/release/1.20.0-notes.html#deprecations\n",
      "  cat = df.select_dtypes(include=np.object)\n"
     ]
    }
   ],
   "source": [
    "cat = df.select_dtypes(include=np.object)"
   ]
  },
  {
   "cell_type": "code",
   "execution_count": 42,
   "id": "008ee92e",
   "metadata": {},
   "outputs": [
    {
     "data": {
      "text/html": [
       "<div>\n",
       "<style scoped>\n",
       "    .dataframe tbody tr th:only-of-type {\n",
       "        vertical-align: middle;\n",
       "    }\n",
       "\n",
       "    .dataframe tbody tr th {\n",
       "        vertical-align: top;\n",
       "    }\n",
       "\n",
       "    .dataframe thead th {\n",
       "        text-align: right;\n",
       "    }\n",
       "</style>\n",
       "<table border=\"1\" class=\"dataframe\">\n",
       "  <thead>\n",
       "    <tr style=\"text-align: right;\">\n",
       "      <th></th>\n",
       "      <th>title</th>\n",
       "      <th>Date of Rental</th>\n",
       "    </tr>\n",
       "  </thead>\n",
       "  <tbody>\n",
       "    <tr>\n",
       "      <th>0</th>\n",
       "      <td>WARDROBE PHANTOM</td>\n",
       "      <td>August-2005</td>\n",
       "    </tr>\n",
       "    <tr>\n",
       "      <th>1</th>\n",
       "      <td>WARDROBE PHANTOM</td>\n",
       "      <td>August-2005</td>\n",
       "    </tr>\n",
       "    <tr>\n",
       "      <th>2</th>\n",
       "      <td>WARLOCK WEREWOLF</td>\n",
       "      <td>July-2005</td>\n",
       "    </tr>\n",
       "    <tr>\n",
       "      <th>3</th>\n",
       "      <td>WARLOCK WEREWOLF</td>\n",
       "      <td>July-2005</td>\n",
       "    </tr>\n",
       "    <tr>\n",
       "      <th>4</th>\n",
       "      <td>WARLOCK WEREWOLF</td>\n",
       "      <td>August-2005</td>\n",
       "    </tr>\n",
       "    <tr>\n",
       "      <th>...</th>\n",
       "      <td>...</td>\n",
       "      <td>...</td>\n",
       "    </tr>\n",
       "    <tr>\n",
       "      <th>16039</th>\n",
       "      <td>ORIENT CLOSER</td>\n",
       "      <td>August-2005</td>\n",
       "    </tr>\n",
       "    <tr>\n",
       "      <th>16040</th>\n",
       "      <td>ORIENT CLOSER</td>\n",
       "      <td>August-2005</td>\n",
       "    </tr>\n",
       "    <tr>\n",
       "      <th>16041</th>\n",
       "      <td>ORIENT CLOSER</td>\n",
       "      <td>June-2005</td>\n",
       "    </tr>\n",
       "    <tr>\n",
       "      <th>16042</th>\n",
       "      <td>ORIENT CLOSER</td>\n",
       "      <td>July-2005</td>\n",
       "    </tr>\n",
       "    <tr>\n",
       "      <th>16043</th>\n",
       "      <td>ORIENT CLOSER</td>\n",
       "      <td>July-2005</td>\n",
       "    </tr>\n",
       "  </tbody>\n",
       "</table>\n",
       "<p>15861 rows × 2 columns</p>\n",
       "</div>"
      ],
      "text/plain": [
       "                  title Date of Rental\n",
       "0      WARDROBE PHANTOM    August-2005\n",
       "1      WARDROBE PHANTOM    August-2005\n",
       "2      WARLOCK WEREWOLF      July-2005\n",
       "3      WARLOCK WEREWOLF      July-2005\n",
       "4      WARLOCK WEREWOLF    August-2005\n",
       "...                 ...            ...\n",
       "16039     ORIENT CLOSER    August-2005\n",
       "16040     ORIENT CLOSER    August-2005\n",
       "16041     ORIENT CLOSER      June-2005\n",
       "16042     ORIENT CLOSER      July-2005\n",
       "16043     ORIENT CLOSER      July-2005\n",
       "\n",
       "[15861 rows x 2 columns]"
      ]
     },
     "execution_count": 42,
     "metadata": {},
     "output_type": "execute_result"
    }
   ],
   "source": [
    "cat"
   ]
  },
  {
   "cell_type": "code",
   "execution_count": 43,
   "id": "60c4062c",
   "metadata": {},
   "outputs": [
    {
     "data": {
      "text/html": [
       "<div>\n",
       "<style scoped>\n",
       "    .dataframe tbody tr th:only-of-type {\n",
       "        vertical-align: middle;\n",
       "    }\n",
       "\n",
       "    .dataframe tbody tr th {\n",
       "        vertical-align: top;\n",
       "    }\n",
       "\n",
       "    .dataframe thead th {\n",
       "        text-align: right;\n",
       "    }\n",
       "</style>\n",
       "<table border=\"1\" class=\"dataframe\">\n",
       "  <thead>\n",
       "    <tr style=\"text-align: right;\">\n",
       "      <th></th>\n",
       "      <th>Avg of Actual Days Rented</th>\n",
       "      <th>rental_duration</th>\n",
       "      <th>AVG Rental Rate</th>\n",
       "      <th>inventory_id</th>\n",
       "    </tr>\n",
       "  </thead>\n",
       "  <tbody>\n",
       "    <tr>\n",
       "      <th>0</th>\n",
       "      <td>0.001595</td>\n",
       "      <td>0.001367</td>\n",
       "      <td>0.000681</td>\n",
       "      <td>0.999998</td>\n",
       "    </tr>\n",
       "    <tr>\n",
       "      <th>1</th>\n",
       "      <td>0.001595</td>\n",
       "      <td>0.001367</td>\n",
       "      <td>0.000681</td>\n",
       "      <td>0.999998</td>\n",
       "    </tr>\n",
       "    <tr>\n",
       "      <th>2</th>\n",
       "      <td>0.000911</td>\n",
       "      <td>0.001367</td>\n",
       "      <td>0.000681</td>\n",
       "      <td>0.999998</td>\n",
       "    </tr>\n",
       "    <tr>\n",
       "      <th>3</th>\n",
       "      <td>0.001595</td>\n",
       "      <td>0.001367</td>\n",
       "      <td>0.000681</td>\n",
       "      <td>0.999998</td>\n",
       "    </tr>\n",
       "    <tr>\n",
       "      <th>4</th>\n",
       "      <td>0.002050</td>\n",
       "      <td>0.001367</td>\n",
       "      <td>0.000681</td>\n",
       "      <td>0.999997</td>\n",
       "    </tr>\n",
       "  </tbody>\n",
       "</table>\n",
       "</div>"
      ],
      "text/plain": [
       "   Avg of Actual Days Rented  rental_duration  AVG Rental Rate  inventory_id\n",
       "0                   0.001595         0.001367         0.000681      0.999998\n",
       "1                   0.001595         0.001367         0.000681      0.999998\n",
       "2                   0.000911         0.001367         0.000681      0.999998\n",
       "3                   0.001595         0.001367         0.000681      0.999998\n",
       "4                   0.002050         0.001367         0.000681      0.999997"
      ]
     },
     "execution_count": 43,
     "metadata": {},
     "output_type": "execute_result"
    }
   ],
   "source": [
    "x.head()"
   ]
  },
  {
   "cell_type": "code",
   "execution_count": null,
   "id": "f1be0c67",
   "metadata": {},
   "outputs": [],
   "source": []
  },
  {
   "cell_type": "code",
   "execution_count": null,
   "id": "da412089",
   "metadata": {},
   "outputs": [],
   "source": []
  },
  {
   "cell_type": "code",
   "execution_count": null,
   "id": "c2c77297",
   "metadata": {},
   "outputs": [],
   "source": []
  }
 ],
 "metadata": {
  "kernelspec": {
   "display_name": "Python 3",
   "language": "python",
   "name": "python3"
  },
  "language_info": {
   "codemirror_mode": {
    "name": "ipython",
    "version": 3
   },
   "file_extension": ".py",
   "mimetype": "text/x-python",
   "name": "python",
   "nbconvert_exporter": "python",
   "pygments_lexer": "ipython3",
   "version": "3.8.8"
  }
 },
 "nbformat": 4,
 "nbformat_minor": 5
}
