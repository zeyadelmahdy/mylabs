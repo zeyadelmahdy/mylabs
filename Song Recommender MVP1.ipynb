{
 "cells": [
  {
   "cell_type": "markdown",
   "id": "5a1077bc",
   "metadata": {},
   "source": [
    "# Creating a MVP for a Song Recommendation Tool "
   ]
  },
  {
   "cell_type": "markdown",
   "id": "ad6a3e16",
   "metadata": {},
   "source": [
    "### Step 1: Scrape the data to be used as reference for the model"
   ]
  },
  {
   "cell_type": "code",
   "execution_count": 1,
   "id": "adc30d16",
   "metadata": {},
   "outputs": [],
   "source": [
    "\n",
    "import pandas as pd\n",
    "import requests\n",
    "from bs4 import BeautifulSoup\n",
    "from tqdm.notebook import tqdm"
   ]
  },
  {
   "cell_type": "code",
   "execution_count": 2,
   "id": "2cbe1d48",
   "metadata": {},
   "outputs": [],
   "source": [
    "url = \"https://www.billboard.com/charts/hot-100/\"\n"
   ]
  },
  {
   "cell_type": "code",
   "execution_count": 3,
   "id": "f97c64c4",
   "metadata": {},
   "outputs": [],
   "source": [
    "response = requests.get(url)\n",
    "top100=BeautifulSoup(response.content,'html.parser')\n"
   ]
  },
  {
   "cell_type": "code",
   "execution_count": 4,
   "id": "34d1cc74",
   "metadata": {},
   "outputs": [
    {
     "data": {
      "text/plain": [
       "'Adele'"
      ]
     },
     "execution_count": 4,
     "metadata": {},
     "output_type": "execute_result"
    }
   ],
   "source": [
    "top100.select('span.c-label.a-font-primary-s')[0].get_text(strip=True)\n"
   ]
  },
  {
   "cell_type": "code",
   "execution_count": 5,
   "id": "0ebafd88",
   "metadata": {},
   "outputs": [
    {
     "data": {
      "text/plain": [
       "'Easy On Me'"
      ]
     },
     "execution_count": 5,
     "metadata": {},
     "output_type": "execute_result"
    }
   ],
   "source": [
    "top100.select('h3.c-title.a-no-trucate')[0].get_text(strip=True)\n"
   ]
  },
  {
   "cell_type": "code",
   "execution_count": 6,
   "id": "443b5235",
   "metadata": {},
   "outputs": [],
   "source": [
    "top_100 = len(top100.select('h3.c-title.a-no-trucate'))\n"
   ]
  },
  {
   "cell_type": "code",
   "execution_count": 7,
   "id": "eadafb6f",
   "metadata": {},
   "outputs": [
    {
     "data": {
      "application/vnd.jupyter.widget-view+json": {
       "model_id": "bc7516cd4d5f400e9179a6efb83799fc",
       "version_major": 2,
       "version_minor": 0
      },
      "text/plain": [
       "  0%|          | 0/100 [00:00<?, ?it/s]"
      ]
     },
     "metadata": {},
     "output_type": "display_data"
    }
   ],
   "source": [
    "\n",
    "song = []\n",
    "artist = []\n",
    "\n",
    "for i in tqdm(range(top_100)):\n",
    "    song.append(top100.select('h3.c-title.a-no-trucate')[i].get_text(strip=True))\n",
    "    artist.append(top100.select('span.c-label.a-font-primary-s')[i].get_text(strip=True))\n",
    "    \n",
    "    \n",
    "   "
   ]
  },
  {
   "cell_type": "code",
   "execution_count": 8,
   "id": "ba468a95",
   "metadata": {},
   "outputs": [
    {
     "data": {
      "text/html": [
       "<div>\n",
       "<style scoped>\n",
       "    .dataframe tbody tr th:only-of-type {\n",
       "        vertical-align: middle;\n",
       "    }\n",
       "\n",
       "    .dataframe tbody tr th {\n",
       "        vertical-align: top;\n",
       "    }\n",
       "\n",
       "    .dataframe thead th {\n",
       "        text-align: right;\n",
       "    }\n",
       "</style>\n",
       "<table border=\"1\" class=\"dataframe\">\n",
       "  <thead>\n",
       "    <tr style=\"text-align: right;\">\n",
       "      <th></th>\n",
       "      <th>song</th>\n",
       "      <th>artist</th>\n",
       "    </tr>\n",
       "  </thead>\n",
       "  <tbody>\n",
       "    <tr>\n",
       "      <th>0</th>\n",
       "      <td>Easy On Me</td>\n",
       "      <td>Adele</td>\n",
       "    </tr>\n",
       "    <tr>\n",
       "      <th>1</th>\n",
       "      <td>Stay</td>\n",
       "      <td>The Kid LAROI &amp; Justin Bieber</td>\n",
       "    </tr>\n",
       "    <tr>\n",
       "      <th>2</th>\n",
       "      <td>Industry Baby</td>\n",
       "      <td>Lil Nas X &amp; Jack Harlow</td>\n",
       "    </tr>\n",
       "    <tr>\n",
       "      <th>3</th>\n",
       "      <td>All Too Well (Taylor's Version)</td>\n",
       "      <td>Taylor Swift</td>\n",
       "    </tr>\n",
       "    <tr>\n",
       "      <th>4</th>\n",
       "      <td>Oh My God</td>\n",
       "      <td>Adele</td>\n",
       "    </tr>\n",
       "    <tr>\n",
       "      <th>...</th>\n",
       "      <td>...</td>\n",
       "      <td>...</td>\n",
       "    </tr>\n",
       "    <tr>\n",
       "      <th>95</th>\n",
       "      <td>Too Easy</td>\n",
       "      <td>Gunna &amp; Future</td>\n",
       "    </tr>\n",
       "    <tr>\n",
       "      <th>96</th>\n",
       "      <td>Escape Plan</td>\n",
       "      <td>Travis Scott</td>\n",
       "    </tr>\n",
       "    <tr>\n",
       "      <th>97</th>\n",
       "      <td>Who's In Your Head</td>\n",
       "      <td>Jonas Brothers</td>\n",
       "    </tr>\n",
       "    <tr>\n",
       "      <th>98</th>\n",
       "      <td>Jugaste y Sufri</td>\n",
       "      <td>Eslabon Armado Featuring DannyLux</td>\n",
       "    </tr>\n",
       "    <tr>\n",
       "      <th>99</th>\n",
       "      <td>Take My Breath</td>\n",
       "      <td>The Weeknd</td>\n",
       "    </tr>\n",
       "  </tbody>\n",
       "</table>\n",
       "<p>100 rows × 2 columns</p>\n",
       "</div>"
      ],
      "text/plain": [
       "                               song                             artist\n",
       "0                        Easy On Me                              Adele\n",
       "1                              Stay      The Kid LAROI & Justin Bieber\n",
       "2                     Industry Baby            Lil Nas X & Jack Harlow\n",
       "3   All Too Well (Taylor's Version)                       Taylor Swift\n",
       "4                         Oh My God                              Adele\n",
       "..                              ...                                ...\n",
       "95                         Too Easy                     Gunna & Future\n",
       "96                      Escape Plan                       Travis Scott\n",
       "97               Who's In Your Head                     Jonas Brothers\n",
       "98                  Jugaste y Sufri  Eslabon Armado Featuring DannyLux\n",
       "99                   Take My Breath                         The Weeknd\n",
       "\n",
       "[100 rows x 2 columns]"
      ]
     },
     "execution_count": 8,
     "metadata": {},
     "output_type": "execute_result"
    }
   ],
   "source": [
    " top100_table = pd.DataFrame({'song':song, 'artist':artist})\n",
    "top100_table"
   ]
  },
  {
   "cell_type": "markdown",
   "id": "2f8614fd",
   "metadata": {},
   "source": [
    "### Step 2: Build the Recommender"
   ]
  },
  {
   "cell_type": "code",
   "execution_count": 9,
   "id": "e8675440",
   "metadata": {},
   "outputs": [
    {
     "name": "stdout",
     "output_type": "stream",
     "text": [
      "Search here for a song! baby\n"
     ]
    }
   ],
   "source": [
    "#creating the user input \n",
    "song = input(\"Search here for a song! \").lower()"
   ]
  },
  {
   "cell_type": "code",
   "execution_count": 10,
   "id": "ccc0cc50",
   "metadata": {},
   "outputs": [
    {
     "data": {
      "text/html": [
       "<div>\n",
       "<style scoped>\n",
       "    .dataframe tbody tr th:only-of-type {\n",
       "        vertical-align: middle;\n",
       "    }\n",
       "\n",
       "    .dataframe tbody tr th {\n",
       "        vertical-align: top;\n",
       "    }\n",
       "\n",
       "    .dataframe thead th {\n",
       "        text-align: right;\n",
       "    }\n",
       "</style>\n",
       "<table border=\"1\" class=\"dataframe\">\n",
       "  <thead>\n",
       "    <tr style=\"text-align: right;\">\n",
       "      <th></th>\n",
       "      <th>song</th>\n",
       "      <th>artist</th>\n",
       "    </tr>\n",
       "  </thead>\n",
       "  <tbody>\n",
       "    <tr>\n",
       "      <th>2</th>\n",
       "      <td>Industry Baby</td>\n",
       "      <td>Lil Nas X &amp; Jack Harlow</td>\n",
       "    </tr>\n",
       "  </tbody>\n",
       "</table>\n",
       "</div>"
      ],
      "text/plain": [
       "            song                   artist\n",
       "2  Industry Baby  Lil Nas X & Jack Harlow"
      ]
     },
     "execution_count": 10,
     "metadata": {},
     "output_type": "execute_result"
    }
   ],
   "source": [
    "#Checking if the input is actually in the data frame\n",
    "\n",
    "check = top100_table[top100_table['song'].str.lower().str.contains(song)]\n",
    "check"
   ]
  },
  {
   "cell_type": "code",
   "execution_count": 11,
   "id": "1a1d5d82",
   "metadata": {},
   "outputs": [],
   "source": [
    "#assign the relevant index number to list for later string-operations, model identifies song names through index\n",
    "\n",
    "index = check.index.tolist()"
   ]
  },
  {
   "cell_type": "code",
   "execution_count": 12,
   "id": "268d4ad7",
   "metadata": {},
   "outputs": [
    {
     "data": {
      "text/plain": [
       "'Industry Baby'"
      ]
     },
     "execution_count": 12,
     "metadata": {},
     "output_type": "execute_result"
    }
   ],
   "source": [
    "top100_table.song[index].values[0]"
   ]
  },
  {
   "cell_type": "code",
   "execution_count": 13,
   "id": "567074a7",
   "metadata": {},
   "outputs": [
    {
     "name": "stdout",
     "output_type": "stream",
     "text": [
      "Did you mean Industry Baby by Lil Nas X & Jack Harlow? yes\n",
      "Well you got good taste alright! Here's another banger you might like called Already Dead by Juice WRLD\n"
     ]
    }
   ],
   "source": [
    "# check if a value has been returned in the input or not - (is the value in our dataframe or not)\n",
    "if len(check) == 0:\n",
    "    print(\"That ain't it chief, try again..\")\n",
    "else: # in case the song was spelt in correctly, confirm the song name\n",
    "    answer = input(\"Did you mean \"+ top100_table.song[index].values[0] + \" by \" + top100_table.artist[index].values[0] + \"? \")\n",
    "        \n",
    "    if answer.lower() == 'yes':\n",
    "        suggestion = top100_table.sample().index.tolist()\n",
    "        print(\"Well you got good taste alright! Here's another banger you might like called \" + top100_table['song'][suggestion].item() + \" by \" +  top100_table['artist'][suggestion].item())\n",
    "    else: \n",
    "        print (\"I got nothing else for you, you should be dissapointed.. \" )\n",
    "        \n",
    "        \n",
    "\n",
    "\n",
    "\n",
    "  "
   ]
  },
  {
   "cell_type": "markdown",
   "id": "60da892d",
   "metadata": {},
   "source": [
    "### Breaking each step down "
   ]
  },
  {
   "cell_type": "code",
   "execution_count": 14,
   "id": "e3964dd3",
   "metadata": {},
   "outputs": [
    {
     "name": "stdout",
     "output_type": "stream",
     "text": [
      "Enter your song here  baby\n"
     ]
    }
   ],
   "source": [
    "#step 1: create user input: \n",
    "\n",
    "song = input(\"Enter your song here  \").lower()\n",
    "\n",
    "\n",
    "\n",
    "\n",
    "# converting input to lowercase to standardize it "
   ]
  },
  {
   "cell_type": "code",
   "execution_count": 15,
   "id": "b7e18f3a",
   "metadata": {},
   "outputs": [
    {
     "data": {
      "text/html": [
       "<div>\n",
       "<style scoped>\n",
       "    .dataframe tbody tr th:only-of-type {\n",
       "        vertical-align: middle;\n",
       "    }\n",
       "\n",
       "    .dataframe tbody tr th {\n",
       "        vertical-align: top;\n",
       "    }\n",
       "\n",
       "    .dataframe thead th {\n",
       "        text-align: right;\n",
       "    }\n",
       "</style>\n",
       "<table border=\"1\" class=\"dataframe\">\n",
       "  <thead>\n",
       "    <tr style=\"text-align: right;\">\n",
       "      <th></th>\n",
       "      <th>song</th>\n",
       "      <th>artist</th>\n",
       "    </tr>\n",
       "  </thead>\n",
       "  <tbody>\n",
       "    <tr>\n",
       "      <th>2</th>\n",
       "      <td>Industry Baby</td>\n",
       "      <td>Lil Nas X &amp; Jack Harlow</td>\n",
       "    </tr>\n",
       "  </tbody>\n",
       "</table>\n",
       "</div>"
      ],
      "text/plain": [
       "            song                   artist\n",
       "2  Industry Baby  Lil Nas X & Jack Harlow"
      ]
     },
     "execution_count": 15,
     "metadata": {},
     "output_type": "execute_result"
    }
   ],
   "source": [
    "#step 2: create a check field to find if the user input is in the dataframe, if not? \n",
    "\n",
    "mic_check = top100_table[top100_table['song'].str.lower().str.contains(song)]\n",
    "mic_check\n",
    "\n",
    "\n",
    "# need to add str since lower only works if the value is a string, \n",
    "#the outer[] is to return the exact value and not a list of true and false\n",
    "#contains makes sure we are working on the user input"
   ]
  },
  {
   "cell_type": "code",
   "execution_count": 16,
   "id": "86187a15",
   "metadata": {},
   "outputs": [],
   "source": [
    "#Step 3: Assign the values an index so the recommender can return the names later based on that. \n",
    "\n",
    "index = mic_check.index.to_list()\n",
    "\n",
    "#to_list converts values into a list so we can work with it later"
   ]
  },
  {
   "cell_type": "code",
   "execution_count": 17,
   "id": "b41f8f76",
   "metadata": {},
   "outputs": [
    {
     "data": {
      "text/plain": [
       "'Industry Baby'"
      ]
     },
     "execution_count": 17,
     "metadata": {},
     "output_type": "execute_result"
    }
   ],
   "source": [
    "#Step 4: Create value to return the required songs - that we will use in the actual recommender code\n",
    "\n",
    "top100_table.song[index].values[0]"
   ]
  },
  {
   "cell_type": "code",
   "execution_count": 21,
   "id": "a82b6a25",
   "metadata": {},
   "outputs": [
    {
     "data": {
      "text/html": [
       "<div>\n",
       "<style scoped>\n",
       "    .dataframe tbody tr th:only-of-type {\n",
       "        vertical-align: middle;\n",
       "    }\n",
       "\n",
       "    .dataframe tbody tr th {\n",
       "        vertical-align: top;\n",
       "    }\n",
       "\n",
       "    .dataframe thead th {\n",
       "        text-align: right;\n",
       "    }\n",
       "</style>\n",
       "<table border=\"1\" class=\"dataframe\">\n",
       "  <thead>\n",
       "    <tr style=\"text-align: right;\">\n",
       "      <th></th>\n",
       "      <th>song</th>\n",
       "      <th>artist</th>\n",
       "    </tr>\n",
       "  </thead>\n",
       "  <tbody>\n",
       "  </tbody>\n",
       "</table>\n",
       "</div>"
      ],
      "text/plain": [
       "Empty DataFrame\n",
       "Columns: [song, artist]\n",
       "Index: []"
      ]
     },
     "execution_count": 21,
     "metadata": {},
     "output_type": "execute_result"
    }
   ],
   "source": [
    "mic_check"
   ]
  },
  {
   "cell_type": "code",
   "execution_count": 28,
   "id": "76afee5c",
   "metadata": {},
   "outputs": [
    {
     "name": "stdout",
     "output_type": "stream",
     "text": [
      "Enter your song here: drink\n",
      "I think we're onto something, did you mean I Drink Wine by Adele? yes\n",
      "Seems like you got good taste in music! Try this song out by Jon Pardi it's called Tequila Little Time\n"
     ]
    }
   ],
   "source": [
    "#Step 5: Create scenarios for each input \n",
    "\n",
    "while True: \n",
    "        song = input(\"Enter your song here: \").lower()\n",
    "        mic_check = top100_table[top100_table['song'].str.lower().str.contains(song)]\n",
    "        index = mic_check.index.to_list()\n",
    "        top100_table.song[index].values[0]\n",
    "\n",
    "        if len(mic_check) == 0:\n",
    "                 print(\"That ain't it chief, try again\")\n",
    "        else: \n",
    "            answer=input(\"I think we're onto something, did you mean \" + top100_table.song[index].values[0] + \" by \" + top100_table.artist[index].values[0] + \"? \")\n",
    "  \n",
    "            if answer.lower() == \"yes\":\n",
    "                suggestion=top100_table.sample().index.to_list()\n",
    "                print(\"Seems like you got good taste in music! Try this song out by \" + top100_table['artist'][suggestion].item() + \" it's called \" + top100_table['song'][suggestion].item())\n",
    "                break\n",
    "            else: \n",
    "                input(\"Ok, let's try that again now \")\n",
    "              "
   ]
  },
  {
   "cell_type": "code",
   "execution_count": null,
   "id": "a8529b0a",
   "metadata": {},
   "outputs": [],
   "source": []
  },
  {
   "cell_type": "code",
   "execution_count": null,
   "id": "9c73456e",
   "metadata": {},
   "outputs": [],
   "source": []
  },
  {
   "cell_type": "code",
   "execution_count": null,
   "id": "d2b1f9e2",
   "metadata": {},
   "outputs": [],
   "source": []
  }
 ],
 "metadata": {
  "kernelspec": {
   "display_name": "Python 3",
   "language": "python",
   "name": "python3"
  },
  "language_info": {
   "codemirror_mode": {
    "name": "ipython",
    "version": 3
   },
   "file_extension": ".py",
   "mimetype": "text/x-python",
   "name": "python",
   "nbconvert_exporter": "python",
   "pygments_lexer": "ipython3",
   "version": "3.8.8"
  }
 },
 "nbformat": 4,
 "nbformat_minor": 5
}
